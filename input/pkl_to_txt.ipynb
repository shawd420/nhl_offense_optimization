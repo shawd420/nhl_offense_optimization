{
 "cells": [
  {
   "cell_type": "markdown",
   "metadata": {},
   "source": [
    "# Compress Dataset to Enable Github Tracking"
   ]
  },
  {
   "cell_type": "code",
   "execution_count": 8,
   "metadata": {},
   "outputs": [],
   "source": [
    "import pickle\n",
    "import json\n",
    "import zlib"
   ]
  },
  {
   "cell_type": "code",
   "execution_count": 4,
   "metadata": {},
   "outputs": [],
   "source": [
    "with open('2019fiveVfive.pkl', 'rb') as f:\n",
    "    game_data = pickle.load(f)"
   ]
  },
  {
   "cell_type": "code",
   "execution_count": 6,
   "metadata": {},
   "outputs": [
    {
     "name": "stdout",
     "output_type": "stream",
     "text": [
      "{'result': {'event': 'Period Ready', 'eventCode': 'TOR5', 'eventTypeId': 'PERIOD_READY', 'description': 'Period Ready'}, 'about': {'eventIdx': 1, 'eventId': 5, 'period': 1, 'periodType': 'REGULAR', 'ordinalNum': '1st', 'periodTime': '00:00', 'periodTimeRemaining': '20:00', 'dateTime': '2019-10-02T23:12:31Z', 'goals': {'away': 0, 'home': 0}}, 'coordinates': {}}\n"
     ]
    }
   ],
   "source": [
    "print(game_data[1])"
   ]
  },
  {
   "cell_type": "markdown",
   "metadata": {},
   "source": [
    "### Convert from Pickle to Text"
   ]
  },
  {
   "cell_type": "code",
   "execution_count": 7,
   "metadata": {},
   "outputs": [],
   "source": [
    "with open('2019fiveVfive.txt', 'w') as f:\n",
    "  json.dump(game_data, f, ensure_ascii=False)"
   ]
  },
  {
   "cell_type": "markdown",
   "metadata": {},
   "source": [
    "### Convert from Text to Zlib"
   ]
  },
  {
   "cell_type": "code",
   "execution_count": 10,
   "metadata": {},
   "outputs": [],
   "source": [
    "text = open(\"2019fiveVfive.txt\", \"rb\").read()\n",
    "with open(\"2019fiveVfive.zlib\", \"wb\") as myFile:\n",
    "    myFile.write(zlib.compress(text))"
   ]
  },
  {
   "cell_type": "markdown",
   "metadata": {},
   "source": [
    "### Uncompress Zipped Dataset"
   ]
  },
  {
   "cell_type": "code",
   "execution_count": 12,
   "metadata": {},
   "outputs": [],
   "source": [
    "compressedText = open(\"2019fiveVfive.zlib\", \"rb\").read()\n",
    "decompressedText = zlib.decompress(compressedText)\n",
    "data = json.loads(decompressedText)"
   ]
  },
  {
   "cell_type": "code",
   "execution_count": 18,
   "metadata": {},
   "outputs": [
    {
     "data": {
      "text/plain": [
       "284248"
      ]
     },
     "execution_count": 18,
     "metadata": {},
     "output_type": "execute_result"
    }
   ],
   "source": [
    "len(data)"
   ]
  },
  {
   "cell_type": "code",
   "execution_count": 19,
   "metadata": {},
   "outputs": [
    {
     "name": "stdout",
     "output_type": "stream",
     "text": [
      "{'result': {'event': 'Period Ready', 'eventCode': 'TOR5', 'eventTypeId': 'PERIOD_READY', 'description': 'Period Ready'}, 'about': {'eventIdx': 1, 'eventId': 5, 'period': 1, 'periodType': 'REGULAR', 'ordinalNum': '1st', 'periodTime': '00:00', 'periodTimeRemaining': '20:00', 'dateTime': '2019-10-02T23:12:31Z', 'goals': {'away': 0, 'home': 0}}, 'coordinates': {}}\n"
     ]
    }
   ],
   "source": [
    "print(data[1])"
   ]
  }
 ],
 "metadata": {
  "kernelspec": {
   "display_name": "Python 3",
   "language": "python",
   "name": "python3"
  },
  "language_info": {
   "codemirror_mode": {
    "name": "ipython",
    "version": 3
   },
   "file_extension": ".py",
   "mimetype": "text/x-python",
   "name": "python",
   "nbconvert_exporter": "python",
   "pygments_lexer": "ipython3",
   "version": "3.7.9"
  }
 },
 "nbformat": 4,
 "nbformat_minor": 4
}
