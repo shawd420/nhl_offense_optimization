{
 "cells": [
  {
   "cell_type": "markdown",
   "metadata": {},
   "source": [
    "# Mine Goals and Assists for Currently Active Players\n",
    "We will need to mine current NHL rosters using the API. We will reuse filtered even strength data from previous work"
   ]
  },
  {
   "cell_type": "code",
   "execution_count": 118,
   "metadata": {},
   "outputs": [],
   "source": [
    "import numpy as np \n",
    "import pandas as pd \n",
    "import pickle    \n",
    "import requests\n",
    "import pprint"
   ]
  },
  {
   "cell_type": "code",
   "execution_count": 29,
   "metadata": {},
   "outputs": [],
   "source": [
    "# API header\n",
    "HEADERS = {\n",
    "    'User-Agent': 'Mozilla/5.0 (Windows NT 6.1; WOW64) AppleWebKit/537.36 (KHTML, like Gecko) Chrome/56.0.2924.76 Safari/537.36', \n",
    "    \"Upgrade-Insecure-Requests\": \"1\",\n",
    "    \"DNT\": \"1\",\n",
    "    \"Accept\": \"text/html,application/xhtml+xml,application/xml;q=0.9,*/*;q=0.8\",\n",
    "    \"Accept-Language\": \"en-US,en;q=0.5\",\n",
    "    \"Accept-Encoding\": \"gzip, deflate\"\n",
    "}"
   ]
  },
  {
   "cell_type": "code",
   "execution_count": 2,
   "metadata": {},
   "outputs": [],
   "source": [
    "# load dataset\n",
    "with open('input/2019fiveVfive.pkl', 'rb') as f:\n",
    "    game_data = pickle.load(f)"
   ]
  },
  {
   "cell_type": "markdown",
   "metadata": {},
   "source": [
    "### Get Roster Info\n",
    "Start by mining team IDs"
   ]
  },
  {
   "cell_type": "code",
   "execution_count": 42,
   "metadata": {},
   "outputs": [
    {
     "name": "stdout",
     "output_type": "stream",
     "text": [
      "31\n"
     ]
    }
   ],
   "source": [
    "# get a list of team IDs\n",
    "team_ids = []\n",
    "r = requests.get(url='https://statsapi.web.nhl.com/api/v1/teams')\n",
    "d = r.json()\n",
    "\n",
    "for team in d['teams']:\n",
    "    team_ids.append(team['id'])\n",
    "print(len(team_ids))\n"
   ]
  },
  {
   "cell_type": "markdown",
   "metadata": {},
   "source": [
    "Loop through team IDs and mine each teams roster (fullName)"
   ]
  },
  {
   "cell_type": "code",
   "execution_count": 51,
   "metadata": {},
   "outputs": [
    {
     "name": "stdout",
     "output_type": "stream",
     "text": [
      "1153\n"
     ]
    }
   ],
   "source": [
    "stats = {}\n",
    "\n",
    "for team_id in team_ids:\n",
    "    r = requests.get(url='https://statsapi.web.nhl.com/api/v1/teams/' + str(team_id) + '/roster')\n",
    "    d = r.json()\n",
    "    for player in d['roster']:\n",
    "        name = player['person']['fullName']\n",
    "        stats[name] = {'goals' : 0, 'assists' : 0}\n",
    "\n",
    "print(len(stats))        "
   ]
  },
  {
   "cell_type": "markdown",
   "metadata": {},
   "source": [
    "### Get even-strength stats from 2019-20 season (Goals and Assists)"
   ]
  },
  {
   "cell_type": "code",
   "execution_count": 67,
   "metadata": {},
   "outputs": [
    {
     "name": "stdout",
     "output_type": "stream",
     "text": [
      "{'Travis Zajac': {'goals': 7, 'assists': 14}, 'P.K. Subban': {'goals': 5, 'assists': 7}, 'Kyle Palmieri': {'goals': 14, 'assists': 13}, 'Dmitry Kulikov': {'goals': 2, 'assists': 8}, 'Sami Vatanen': {'goals': 4, 'assists': 7}, 'Scott Wedgewood': {'goals': 0, 'assists': 0}, 'Ben Street': {'goals': 0, 'assists': 1}, 'Matt Tennyson': {'goals': 0, 'assists': 3}, 'Ryan Murray': {'goals': 2, 'assists': 5}, 'Damon Severson': {'goals': 6, 'assists': 16}, 'Connor Carrick': {'goals': 1, 'assists': 5}, 'Nikita Gusev': {'goals': 14, 'assists': 21}, 'Andreas Johnsson': {'goals': 5, 'assists': 12}, 'Will Butcher': {'goals': 3, 'assists': 15}, 'Miles Wood': {'goals': 11, 'assists': 12}, 'Josh Jacobs': {'goals': 0, 'assists': 0}, 'Pavel Zacha': {'goals': 3, 'assists': 15}, 'Mackenzie Blackwood': {'goals': 0, 'assists': 0}, 'Nicholas Merkley': {'goals': 1, 'assists': 1}, 'Colton White': {'goals': 0, 'assists': 0}, 'Brett Seney': {'goals': 0, 'assists': 0}, 'Brandon Gignac': {'goals': 0, 'assists': 0}, 'Evan Cormier': {'goals': 0, 'assists': 0}, 'Nathan Bastian': {'goals': 0, 'assists': 0}, 'Michael McLeod': {'goals': 0, 'assists': 2}, 'Janne Kuokkanen': {'goals': 0, 'assists': 0}, 'Mikhail Maltsev': {'goals': 0, 'assists': 0}, 'Nico Hischier': {'goals': 11, 'assists': 13}, 'Jesper Boqvist': {'goals': 5, 'assists': 0}, 'Nate Schnarr': {'goals': 0, 'assists': 0}, 'Reilly Walsh': {'goals': 0, 'assists': 0}, 'Gilles Senn': {'goals': 0, 'assists': 0}, 'Kevin Bahl': {'goals': 0, 'assists': 0}, 'Ty Smith': {'goals': 0, 'assists': 0}, 'Yegor Sharangovich': {'goals': 0, 'assists': 0}, 'Nolan Foote': {'goals': 0, 'assists': 0}, 'Nikita Okhotiuk': {'goals': 0, 'assists': 0}, 'Jack Hughes': {'goals': 5, 'assists': 9}, 'Mathew Barzal': {'goals': 18, 'assists': 33}, 'Johnny Boychuk': {'goals': 1, 'assists': 9}, 'Andrew Ladd': {'goals': 1, 'assists': 0}, 'Leo Komarov': {'goals': 4, 'assists': 9}, 'Cal Clutterbuck': {'goals': 2, 'assists': 3}, 'Semyon Varlamov': {'goals': 0, 'assists': 0}, 'Thomas Hickey': {'goals': 0, 'assists': 0}, 'Josh Bailey': {'goals': 12, 'assists': 21}, 'Jordan Eberle': {'goals': 14, 'assists': 17}, 'Nick Leddy': {'goals': 2, 'assists': 15}, 'Casey Cizikas': {'goals': 7, 'assists': 2}, 'Anders Lee': {'goals': 18, 'assists': 17}, 'Brock Nelson': {'goals': 22, 'assists': 24}, 'Jean-Gabriel Pageau': {'goals': 17, 'assists': 8}, 'Scott Mayfield': {'goals': 5, 'assists': 6}, 'Adam Pelech': {'goals': 1, 'assists': 6}, 'Ryan Pulock': {'goals': 7, 'assists': 17}, 'Ross Johnston': {'goals': 3, 'assists': 1}, 'Michael Dal Colle': {'goals': 4, 'assists': 6}, 'Ilya Sorokin': {'goals': 0, 'assists': 0}, 'Cole Bardreau': {'goals': 1, 'assists': 1}, 'A.J. Greer': {'goals': 0, 'assists': 0}, 'Parker Wotherspoon': {'goals': 0, 'assists': 0}, 'Anthony Beauvillier': {'goals': 14, 'assists': 17}, 'Mitchell Vande Sompel': {'goals': 0, 'assists': 0}, 'Austin Czarnik': {'goals': 1, 'assists': 1}, 'Kieffer Bellows': {'goals': 1, 'assists': 1}, 'Otto Koivula': {'goals': 0, 'assists': 0}, 'Sebastian Aho': {'goals': 26, 'assists': 18}, 'Arnaud Durandeau': {'goals': 0, 'assists': 0}, 'Grant Hutton': {'goals': 0, 'assists': 0}, 'Oliver Wahlstrom': {'goals': 0, 'assists': 0}, 'Jakub Skarek': {'goals': 0, 'assists': 0}, 'Bode Wilde': {'goals': 0, 'assists': 0}, 'Noah Dobson': {'goals': 1, 'assists': 5}, 'Robert Carpenter': {'goals': 0, 'assists': 0}, 'Mason Jobst': {'goals': 0, 'assists': 0}, 'Samuel Bolduc': {'goals': 0, 'assists': 0}, 'Simon Holmstrom': {'goals': 0, 'assists': 0}, 'Jack Johnson': {'goals': 1, 'assists': 8}, 'Brendan Smith': {'goals': 1, 'assists': 4}, 'Chris Kreider': {'goals': 14, 'assists': 17}, 'Anthony Bitetto': {'goals': 0, 'assists': 6}, 'Keith Kinkaid': {'goals': 0, 'assists': 0}, 'Colin Blackwell': {'goals': 3, 'assists': 7}, 'Ryan Strome': {'goals': 13, 'assists': 26}, 'Mika Zibanejad': {'goals': 25, 'assists': 20}, 'Phillip Di Giuseppe': {'goals': 1, 'assists': 3}, 'Jacob Trouba': {'goals': 3, 'assists': 13}, 'Jonny Brodzinski': {'goals': 0, 'assists': 1}, 'Pavel Buchnevich': {'goals': 11, 'assists': 24}, 'Tony DeAngelo': {'goals': 12, 'assists': 21}, 'Brendan Lemieux': {'goals': 3, 'assists': 7}, 'Igor Shesterkin': {'goals': 0, 'assists': 0}, 'Darren Raddysh': {'goals': 0, 'assists': 0}, 'Artemi Panarin': {'goals': 26, 'assists': 46}, 'Adam Huska': {'goals': 0, 'assists': 0}, 'Gabriel Fontaine': {'goals': 0, 'assists': 0}, 'Brandon Crawley': {'goals': 0, 'assists': 0}, 'Kevin Rooney': {'goals': 2, 'assists': 4}, 'Adam Fox': {'goals': 7, 'assists': 21}, 'Ryan Lindgren': {'goals': 1, 'assists': 12}, 'Julien Gauthier': {'goals': 0, 'assists': 3}, 'Libor Hajek': {'goals': 0, 'assists': 5}, 'Brett Howden': {'goals': 7, 'assists': 6}, 'Tim Gettinger': {'goals': 0, 'assists': 1}, 'Anthony Greco': {'goals': 0, 'assists': 0}, 'Tarmo Reunanen': {'goals': 0, 'assists': 0}, 'Tyler Wall': {'goals': 0, 'assists': 0}, 'Filip Chytil': {'goals': 13, 'assists': 6}, 'Morgan Barron': {'goals': 0, 'assists': 0}, 'Alexandar Georgiev': {'goals': 0, 'assists': 1}, \"K'Andre Miller\": {'goals': 0, 'assists': 0}, 'Matthew Robertson': {'goals': 0, 'assists': 0}, 'Kaapo Kakko': {'goals': 9, 'assists': 2}, 'Patrick Khodorenko': {'goals': 0, 'assists': 0}, 'Austin Rueschhoff': {'goals': 0, 'assists': 0}, 'Alexis Lafrenière': {'goals': 0, 'assists': 0}, 'Justin Richards': {'goals': 0, 'assists': 0}, 'Brian Elliott': {'goals': 0, 'assists': 0}, 'Claude Giroux': {'goals': 15, 'assists': 17}, 'Justin Braun': {'goals': 3, 'assists': 15}, 'James van Riemsdyk': {'goals': 14, 'assists': 16}, 'Jakub Voracek': {'goals': 8, 'assists': 31}, 'Nate Prosser': {'goals': 0, 'assists': 0}, 'Kevin Hayes': {'goals': 15, 'assists': 14}, 'Andy Andreoff': {'goals': 0, 'assists': 1}, 'Tyler Wotherspoon': {'goals': 0, 'assists': 0}, 'Sean Couturier': {'goals': 21, 'assists': 27}, 'Scott Laughton': {'goals': 13, 'assists': 12}, 'Derrick Pouliot': {'goals': 0, 'assists': 0}, 'Shayne Gostisbehere': {'goals': 3, 'assists': 3}, 'Erik Gustafsson': {'goals': 4, 'assists': 16}, 'Michael Raffl': {'goals': 7, 'assists': 11}, 'Chris Bigras': {'goals': 0, 'assists': 0}, 'Robert Hagg': {'goals': 2, 'assists': 10}, 'Samuel Morin': {'goals': 0, 'assists': 0}, 'Travis Sanheim': {'goals': 7, 'assists': 13}, 'Nicolas Aube-Kubel': {'goals': 5, 'assists': 6}, 'Mark Friedman': {'goals': 0, 'assists': 1}, 'Oskar Lindblom': {'goals': 8, 'assists': 6}, 'Felix Sandstrom': {'goals': 0, 'assists': 0}, 'Travis Konecny': {'goals': 20, 'assists': 18}, 'Ivan Provorov': {'goals': 6, 'assists': 13}, 'Philippe Myers': {'goals': 4, 'assists': 10}, 'Alex Lyon': {'goals': 0, 'assists': 0}, 'Wade Allison': {'goals': 0, 'assists': 0}, 'Carsen Twarynski': {'goals': 1, 'assists': 0}, 'Connor Bunnaman': {'goals': 1, 'assists': 1}, 'Carter Hart': {'goals': 0, 'assists': 0}, 'Pascal Laberge': {'goals': 0, 'assists': 0}, 'Tanner Laczynski': {'goals': 0, 'assists': 0}, 'Matthew Strome': {'goals': 0, 'assists': 0}, 'Morgan Frost': {'goals': 1, 'assists': 5}, 'Joel Farabee': {'goals': 8, 'assists': 12}, 'Wyatte Wylie': {'goals': 0, 'assists': 0}, 'Egor Zamula': {'goals': 0, 'assists': 0}, 'Mason Millman': {'goals': 0, 'assists': 0}, 'Tyson Foerster': {'goals': 0, 'assists': 0}, 'Zayde Wisdom': {'goals': 0, 'assists': 0}, 'Linus Sandin': {'goals': 0, 'assists': 0}, 'Evgeni Malkin': {'goals': 18, 'assists': 30}, 'Sidney Crosby': {'goals': 11, 'assists': 18}, 'Kris Letang': {'goals': 9, 'assists': 20}, 'Colton Sceviour': {'goals': 6, 'assists': 10}, 'Brian Dumoulin': {'goals': 0, 'assists': 5}, 'Jason Zucker': {'goals': 12, 'assists': 16}, 'Bryan Rust': {'goals': 20, 'assists': 19}, 'Mark Jankowski': {'goals': 5, 'assists': 2}, 'Mike Matheson': {'goals': 7, 'assists': 11}, 'Cody Ceci': {'goals': 1, 'assists': 7}, 'Teddy Blueger': {'goals': 10, 'assists': 11}, 'Chad Ruhwedel': {'goals': 2, 'assists': 4}, 'Jake Guentzel': {'goals': 15, 'assists': 18}, 'Tristan Jarry': {'goals': 0, 'assists': 0}, 'Josh Currie': {'goals': 0, 'assists': 0}, 'Frederick Gaudreau': {'goals': 0, 'assists': 0}, 'Kasperi Kapanen': {'goals': 11, 'assists': 19}, 'Jared McCann': {'goals': 13, 'assists': 15}, 'Marcus Pettersson': {'goals': 2, 'assists': 16}, 'Sam Lafferty': {'goals': 6, 'assists': 7}, 'Anthony Angello': {'goals': 1, 'assists': 0}, 'John Marino': {'goals': 4, 'assists': 17}, 'Evan Rodrigues': {'goals': 5, 'assists': 4}, 'Brandon Tanev': {'goals': 9, 'assists': 12}, 'Zach Aston-Reese': {'goals': 5, 'assists': 7}, 'William Reilly': {'goals': 0, 'assists': 0}, 'Jonathan Gruden': {'goals': 0, 'assists': 0}, 'Juuso Riikola': {'goals': 1, 'assists': 4}, 'Cam Lee': {'goals': 0, 'assists': 0}, 'Radim Zohorna': {'goals': 0, 'assists': 0}, 'Josh Maniscalco': {'goals': 0, 'assists': 0}, 'Patrice Bergeron': {'goals': 19, 'assists': 16}, 'Jaroslav Halak': {'goals': 0, 'assists': 2}, 'David Krejci': {'goals': 9, 'assists': 18}, 'Tuukka Rask': {'goals': 0, 'assists': 1}, 'Brad Marchand': {'goals': 22, 'assists': 33}, 'Paul Carey': {'goals': 0, 'assists': 0}, 'John Moore': {'goals': 2, 'assists': 1}, 'Craig Smith': {'goals': 14, 'assists': 10}, 'Greg McKegg': {'goals': 4, 'assists': 3}, 'Charlie Coyle': {'goals': 15, 'assists': 16}, 'Chris Wagner': {'goals': 6, 'assists': 4}, 'Kevan Miller': {'goals': 0, 'assists': 0}, 'Sean Kuraly': {'goals': 6, 'assists': 14}, 'Matt Grzelcyk': {'goals': 3, 'assists': 8}, 'Anton Blidh': {'goals': 0, 'assists': 0}, 'Connor Clifton': {'goals': 2, 'assists': 0}, 'Nick Ritchie': {'goals': 7, 'assists': 11}, 'David Pastrnak': {'goals': 28, 'assists': 29}, 'Anders Bjork': {'goals': 8, 'assists': 10}, 'Ondrej Kase': {'goals': 10, 'assists': 15}, 'Jakub Zboril': {'goals': 0, 'assists': 0}, 'Dan Vladar': {'goals': 0, 'assists': 0}, 'Brandon Carlo': {'goals': 4, 'assists': 14}, 'Jeremy Lauzon': {'goals': 1, 'assists': 1}, 'Callum Booth': {'goals': 0, 'assists': 0}, 'Zach Senyshyn': {'goals': 0, 'assists': 2}, 'Jake DeBrusk': {'goals': 12, 'assists': 13}, 'Cameron Hughes': {'goals': 0, 'assists': 0}, 'Charlie McAvoy': {'goals': 3, 'assists': 24}, 'Matt Filipe': {'goals': 0, 'assists': 0}, 'Trent Frederic': {'goals': 0, 'assists': 0}, 'Oskar Steen': {'goals': 0, 'assists': 0}, 'Urho Vaakanainen': {'goals': 0, 'assists': 0}, 'Jack Studnicka': {'goals': 0, 'assists': 1}, 'Jeremy Swayman': {'goals': 0, 'assists': 0}, 'Karson Kuhlman': {'goals': 0, 'assists': 5}, 'Par Lindholm': {'goals': 3, 'assists': 3}, 'Robert Lantosi': {'goals': 0, 'assists': 0}, 'Nick Wolff': {'goals': 0, 'assists': 0}, 'Jack Ahcan': {'goals': 0, 'assists': 0}, 'Eric Staal': {'goals': 14, 'assists': 19}, 'Kyle Okposo': {'goals': 8, 'assists': 10}, 'Dustin Tokarski': {'goals': 0, 'assists': 0}, 'Cody Eakin': {'goals': 5, 'assists': 9}, 'Carter Hutton': {'goals': 0, 'assists': 1}, 'Matt Irwin': {'goals': 0, 'assists': 3}, 'Riley Sheahan': {'goals': 6, 'assists': 5}, 'Jeff Skinner': {'goals': 14, 'assists': 6}, 'Taylor Hall': {'goals': 13, 'assists': 22}, 'Brandon Davidson': {'goals': 0, 'assists': 0}, 'Tobias Rieder': {'goals': 3, 'assists': 5}, 'Steven Fogarty': {'goals': 0, 'assists': 0}, 'Colin Miller': {'goals': 1, 'assists': 7}, 'Zemgus Girgensons': {'goals': 11, 'assists': 7}, 'Jake McCabe': {'goals': 2, 'assists': 10}, 'Linus Ullmark': {'goals': 0, 'assists': 0}, 'Rasmus Ristolainen': {'goals': 4, 'assists': 18}, 'Curtis Lazar': {'goals': 5, 'assists': 4}, 'Sam Reinhart': {'goals': 17, 'assists': 21}, 'Brandon Montour': {'goals': 5, 'assists': 10}, 'Jonas Johansson': {'goals': 0, 'assists': 0}, 'Victor Olofsson': {'goals': 8, 'assists': 16}, 'Jack Eichel': {'goals': 24, 'assists': 25}, 'Will Borgen': {'goals': 0, 'assists': 0}, 'Rasmus Asplund': {'goals': 1, 'assists': 1}, 'Brett Murray': {'goals': 0, 'assists': 0}, 'Tage Thompson': {'goals': 0, 'assists': 0}, 'Casey Fitzgerald': {'goals': 0, 'assists': 0}, 'Casey Mittelstadt': {'goals': 4, 'assists': 4}, 'Henri Jokiharju': {'goals': 3, 'assists': 10}, 'C.J. Smith': {'goals': 0, 'assists': 0}, 'Jacob Bryson': {'goals': 0, 'assists': 0}, 'Mattias Samuelsson': {'goals': 0, 'assists': 0}, 'Rasmus Dahlin': {'goals': 3, 'assists': 18}, 'Andrew Oglevie': {'goals': 0, 'assists': 0}, 'Dylan Cozens': {'goals': 0, 'assists': 0}, 'Arttu Ruotsalainen': {'goals': 0, 'assists': 0}, 'Brandon Biro': {'goals': 0, 'assists': 0}, 'Jack Quinn': {'goals': 0, 'assists': 0}, 'Josh Anderson': {'goals': 1, 'assists': 3}, 'Joel Teasdale': {'goals': 0, 'assists': 0}, 'Corey Perry': {'goals': 4, 'assists': 10}, 'Shea Weber': {'goals': 12, 'assists': 16}, 'Carey Price': {'goals': 0, 'assists': 0}, 'Jeff Petry': {'goals': 6, 'assists': 20}, 'Michael Frolik': {'goals': 4, 'assists': 7}, 'Paul Byron': {'goals': 4, 'assists': 6}, 'Jake Allen': {'goals': 0, 'assists': 0}, 'Tomas Tatar': {'goals': 15, 'assists': 33}, 'Ben Chiarot': {'goals': 9, 'assists': 12}, 'Tyler Toffoli': {'goals': 19, 'assists': 15}, 'Jordan Weal': {'goals': 6, 'assists': 4}, 'Brendan Gallagher': {'goals': 21, 'assists': 17}, 'Alex Belzile': {'goals': 0, 'assists': 0}, 'Joel Edmundson': {'goals': 6, 'assists': 13}, 'Xavier Ouellet': {'goals': 0, 'assists': 2}, 'Joel Armia': {'goals': 10, 'assists': 12}, 'Phillip Danault': {'goals': 11, 'assists': 31}, 'Brett Kulak': {'goals': 0, 'assists': 6}, 'Joseph Blandisi': {'goals': 2, 'assists': 3}, 'Laurent Dauphin': {'goals': 0, 'assists': 0}, 'Gustav Olofsson': {'goals': 0, 'assists': 0}, 'Artturi Lehkonen': {'goals': 12, 'assists': 14}, 'Jonathan Drouin': {'goals': 7, 'assists': 5}, 'Brandon Baddock': {'goals': 0, 'assists': 0}, 'Jake Evans': {'goals': 2, 'assists': 1}, 'Noah Juulsen': {'goals': 0, 'assists': 0}, 'Lukas Vejdemo': {'goals': 1, 'assists': 0}, 'Michael McNiven': {'goals': 0, 'assists': 0}, 'Charlie Lindgren': {'goals': 0, 'assists': 0}, 'Victor Mete': {'goals': 4, 'assists': 6}, 'Cale Fleury': {'goals': 1, 'assists': 0}, 'Nick Suzuki': {'goals': 7, 'assists': 18}, 'Cayden Primeau': {'goals': 0, 'assists': 0}, 'Ryan Poehling': {'goals': 1, 'assists': 1}, 'Jesperi Kotkaniemi': {'goals': 5, 'assists': 1}, 'Alexander Romanov': {'goals': 0, 'assists': 0}, 'Otto Leskinen': {'goals': 0, 'assists': 0}, 'Jake Lucchini': {'goals': 0, 'assists': 0}, 'Vasili Demchenko': {'goals': 0, 'assists': 0}, 'Braydon Coburn': {'goals': 1, 'assists': 3}, 'Artem Anisimov': {'goals': 11, 'assists': 4}, 'Evgenii Dadonov': {'goals': 14, 'assists': 16}, 'Micheal Haley': {'goals': 1, 'assists': 0}, 'Derek Stepan': {'goals': 8, 'assists': 12}, 'Austin Watson': {'goals': 6, 'assists': 6}, 'Erik Gudbranson': {'goals': 4, 'assists': 4}, 'Matthew Peca': {'goals': 0, 'assists': 2}, 'Logan Shaw': {'goals': 2, 'assists': 1}, 'Mike Reilly': {'goals': 0, 'assists': 6}, 'Alex Galchenyuk': {'goals': 7, 'assists': 11}, 'Matt Murray': {'goals': 0, 'assists': 1}, 'Chris Tierney': {'goals': 6, 'assists': 23}, 'Cedric Paquette': {'goals': 6, 'assists': 10}, 'Connor Brown': {'goals': 13, 'assists': 24}, 'Josh Brown': {'goals': 3, 'assists': 5}, 'Marcus Hogberg': {'goals': 0, 'assists': 0}, 'Nick Paul': {'goals': 9, 'assists': 10}, 'Colin White': {'goals': 5, 'assists': 12}, 'Thomas Chabot': {'goals': 6, 'assists': 22}, 'Filip Chlapik': {'goals': 3, 'assists': 3}, 'J.C. Beaudin': {'goals': 0, 'assists': 1}, 'Christian Wolanin': {'goals': 0, 'assists': 0}, 'Christian Jaros': {'goals': 0, 'assists': 2}, 'Rudolfs Balcers': {'goals': 1, 'assists': 2}, 'Joey Daccord': {'goals': 0, 'assists': 0}, 'Maxime Lajoie': {'goals': 0, 'assists': 0}, 'Logan Brown': {'goals': 0, 'assists': 5}, 'Filip Gustavsson': {'goals': 0, 'assists': 0}, 'Vitaly Abramov': {'goals': 1, 'assists': 0}, 'Nikita Zaitsev': {'goals': 1, 'assists': 11}, 'Alex Formenton': {'goals': 0, 'assists': 0}, 'Josh Norris': {'goals': 0, 'assists': 0}, 'Erik Brannstrom': {'goals': 0, 'assists': 3}, 'Drake Batherson': {'goals': 2, 'assists': 2}, 'Jonathan Davidsson': {'goals': 0, 'assists': 1}, 'Parker Kelly': {'goals': 0, 'assists': 0}, 'Brady Tkachuk': {'goals': 18, 'assists': 17}, 'Kevin Mandolese': {'goals': 0, 'assists': 0}, 'Egor Sokolov': {'goals': 0, 'assists': 0}, 'Jonathan Aspirot': {'goals': 0, 'assists': 0}, 'Lassi Thomson': {'goals': 0, 'assists': 0}, 'Olle Alsing': {'goals': 0, 'assists': 0}, 'Tim Stuetzle': {'goals': 0, 'assists': 0}, 'Artem Zub': {'goals': 0, 'assists': 0}, 'Joe Thornton': {'goals': 4, 'assists': 19}, 'Jason Spezza': {'goals': 9, 'assists': 11}, 'Jake Muzzin': {'goals': 6, 'assists': 15}, 'Wayne Simmonds': {'goals': 3, 'assists': 13}, 'Zach Bogosian': {'goals': 1, 'assists': 5}, 'Michael Hutchinson': {'goals': 0, 'assists': 0}, 'TJ Brodie': {'goals': 4, 'assists': 14}, 'John Tavares': {'goals': 18, 'assists': 19}, 'Martin Marincin': {'goals': 1, 'assists': 3}, 'Justin Holl': {'goals': 2, 'assists': 16}, 'Zach Hyman': {'goals': 17, 'assists': 13}, 'Jack Campbell': {'goals': 0, 'assists': 0}, 'Kenny Agostino': {'goals': 0, 'assists': 0}, 'Frederik Andersen': {'goals': 0, 'assists': 0}, 'Travis Boyd': {'goals': 3, 'assists': 6}, 'Morgan Rielly': {'goals': 3, 'assists': 17}, 'Jimmy Vesey': {'goals': 8, 'assists': 10}, 'Alexander Kerfoot': {'goals': 8, 'assists': 17}, 'Aaron Dell': {'goals': 0, 'assists': 0}, 'Teemu Kivihalme': {'goals': 0, 'assists': 0}, 'Nic Petan': {'goals': 0, 'assists': 3}, 'William Nylander': {'goals': 23, 'assists': 20}, 'Pierre Engvall': {'goals': 7, 'assists': 6}, 'Travis Dermott': {'goals': 4, 'assists': 7}, 'Mitchell Marner': {'goals': 8, 'assists': 32}, 'Joey Anderson': {'goals': 4, 'assists': 2}, 'Auston Matthews': {'goals': 35, 'assists': 19}, 'Calle Rosen': {'goals': 0, 'assists': 3}, 'Mac Hollowell': {'goals': 0, 'assists': 0}, 'Rasmus Sandin': {'goals': 1, 'assists': 5}, 'Nicholas Robertson': {'goals': 0, 'assists': 0}, 'Ilya Mikheyev': {'goals': 7, 'assists': 15}, 'Alexander Barabanov': {'goals': 0, 'assists': 0}, 'Mikko Lehtonen': {'goals': 0, 'assists': 0}, 'James Reimer': {'goals': 0, 'assists': 0}, 'Jordan Staal': {'goals': 6, 'assists': 17}, 'Jake Gardiner': {'goals': 3, 'assists': 10}, 'Drew Shore': {'goals': 0, 'assists': 0}, 'Nino Niederreiter': {'goals': 7, 'assists': 10}, 'Petr Mrazek': {'goals': 0, 'assists': 0}, 'Jesper Fast': {'goals': 10, 'assists': 17}, 'Ryan Dzingel': {'goals': 4, 'assists': 16}, 'Max McCormick': {'goals': 0, 'assists': 0}, 'Vincent Trocheck': {'goals': 12, 'assists': 21}, 'Dougie Hamilton': {'goals': 11, 'assists': 14}, 'Brady Skjei': {'goals': 7, 'assists': 14}, 'Teuvo Teravainen': {'goals': 12, 'assists': 28}, 'Jordan Martinook': {'goals': 2, 'assists': 9}, 'Brock McGinn': {'goals': 5, 'assists': 10}, 'Jaccob Slavin': {'goals': 6, 'assists': 25}, 'Joakim Ryan': {'goals': 1, 'assists': 4}, 'Antoine Bibeau': {'goals': 0, 'assists': 0}, 'Brett Pesce': {'goals': 4, 'assists': 12}, 'Haydn Fleury': {'goals': 4, 'assists': 9}, 'Alex Nedeljkovic': {'goals': 0, 'assists': 0}, 'Warren Foegele': {'goals': 10, 'assists': 17}, 'Gustav Forsling': {'goals': 0, 'assists': 0}, 'Jeremy Bracco': {'goals': 0, 'assists': 0}, 'David Cotton': {'goals': 0, 'assists': 0}, 'Spencer Smallman': {'goals': 0, 'assists': 0}, 'Steven Lorentz': {'goals': 0, 'assists': 0}, 'Jake Bean': {'goals': 0, 'assists': 0}, 'Morgan Geekie': {'goals': 3, 'assists': 1}, 'Stelio Mattheos': {'goals': 0, 'assists': 0}, 'Martin Necas': {'goals': 11, 'assists': 14}, 'Joey Keane': {'goals': 0, 'assists': 0}, 'Sheldon Rempal': {'goals': 0, 'assists': 0}, 'Andrei Svechnikov': {'goals': 20, 'assists': 22}, 'Jamieson Rees': {'goals': 0, 'assists': 0}, 'Jason Cotton': {'goals': 0, 'assists': 0}, 'Seth Jarvis': {'goals': 0, 'assists': 0}, 'Aleksi Saarela': {'goals': 2, 'assists': 1}, 'Keith Yandle': {'goals': 3, 'assists': 21}, 'Anton Stralman': {'goals': 4, 'assists': 13}, 'Patric Hornqvist': {'goals': 13, 'assists': 11}, 'Tommy Cross': {'goals': 0, 'assists': 0}, 'Radko Gudas': {'goals': 2, 'assists': 13}, 'Sergei Bobrovsky': {'goals': 0, 'assists': 0}, 'Brett Connolly': {'goals': 15, 'assists': 12}, 'Scott Wilson': {'goals': 1, 'assists': 1}, 'Jonathan Huberdeau': {'goals': 18, 'assists': 31}, 'Chris Driedger': {'goals': 0, 'assists': 0}, 'Vinnie Hinostroza': {'goals': 5, 'assists': 15}, 'MacKenzie Weegar': {'goals': 7, 'assists': 11}, 'Anthony Duclair': {'goals': 16, 'assists': 14}, 'Carter Verhaeghe': {'goals': 8, 'assists': 4}, 'Philippe Desrosiers': {'goals': 0, 'assists': 0}, 'Aleksander Barkov': {'goals': 13, 'assists': 27}, 'Alex Wennberg': {'goals': 0, 'assists': 0}, 'Aaron Ekblad': {'goals': 5, 'assists': 28}, 'Frank Vatrano': {'goals': 13, 'assists': 18}, 'Sam Montembeault': {'goals': 0, 'assists': 0}, 'Noel Acciari': {'goals': 19, 'assists': 7}, 'Markus Nutivaara': {'goals': 3, 'assists': 5}, 'Mason Marchment': {'goals': 0, 'assists': 1}, 'Ryan Lomberg': {'goals': 0, 'assists': 0}, 'Riley Stillman': {'goals': 0, 'assists': 5}, 'Chase Priskie': {'goals': 0, 'assists': 0}, 'Owen Tippett': {'goals': 0, 'assists': 0}, 'Aleksi Heponiemi': {'goals': 0, 'assists': 0}, 'Eetu Luostarinen': {'goals': 0, 'assists': 1}, 'Grigori Denisenko': {'goals': 0, 'assists': 0}, 'Brady Keeper': {'goals': 0, 'assists': 0}, 'Cole Schwindt': {'goals': 0, 'assists': 0}, 'Anders Nilsson': {'goals': 0, 'assists': 0}, 'Curtis McElhinney': {'goals': 0, 'assists': 0}, 'Alex Killorn': {'goals': 18, 'assists': 18}, 'Pat Maroon': {'goals': 8, 'assists': 12}, 'Ryan McDonagh': {'goals': 1, 'assists': 10}, 'Steven Stamkos': {'goals': 20, 'assists': 28}, 'Luke Schenn': {'goals': 1, 'assists': 2}, 'Luke Witkowski': {'goals': 1, 'assists': 2}, 'Tyler Johnson': {'goals': 13, 'assists': 11}, 'Victor Hedman': {'goals': 7, 'assists': 25}, 'Ondrej Palat': {'goals': 12, 'assists': 20}, 'Blake Coleman': {'goals': 17, 'assists': 8}, 'Christopher Gibson': {'goals': 0, 'assists': 0}, 'Barclay Goodrow': {'goals': 8, 'assists': 14}, 'Yanni Gourde': {'goals': 7, 'assists': 14}, 'Andrei Vasilevskiy': {'goals': 0, 'assists': 3}, 'Gemel Smith': {'goals': 1, 'assists': 0}, 'Spencer Martin': {'goals': 0, 'assists': 0}, 'Brayden Point': {'goals': 18, 'assists': 33}, 'Ben Thomas': {'goals': 0, 'assists': 0}, 'Daniel Walcott': {'goals': 0, 'assists': 0}, 'Erik Cernak': {'goals': 5, 'assists': 7}, 'Mathieu Joseph': {'goals': 4, 'assists': 2}, 'Mitchell Stephens': {'goals': 3, 'assists': 3}, 'Anthony Cirelli': {'goals': 14, 'assists': 23}, 'Boris Katchouk': {'goals': 0, 'assists': 0}, 'Taylor Raddysh': {'goals': 0, 'assists': 0}, 'Mikhail Sergachev': {'goals': 5, 'assists': 15}, 'Sean Day': {'goals': 0, 'assists': 0}, 'Ross Colton': {'goals': 0, 'assists': 0}, 'Alex Barre-Boulet': {'goals': 0, 'assists': 0}, 'Callan Foote': {'goals': 0, 'assists': 0}, 'Andreas Borgman': {'goals': 0, 'assists': 0}, 'Jan Rutta': {'goals': 1, 'assists': 6}, 'Alexander Volkov': {'goals': 0, 'assists': 1}, 'Dmitry Semykin': {'goals': 0, 'assists': 0}, 'Alexander Green': {'goals': 0, 'assists': 0}, 'Jimmy Huntington': {'goals': 0, 'assists': 0}, 'Jack Finley': {'goals': 0, 'assists': 0}, 'Gage Goncalves': {'goals': 0, 'assists': 0}, 'Zdeno Chara': {'goals': 5, 'assists': 9}, 'Alex Ovechkin': {'goals': 35, 'assists': 12}, 'T.J. Oshie': {'goals': 19, 'assists': 21}, 'Nicklas Backstrom': {'goals': 12, 'assists': 23}, 'Carl Hagelin': {'goals': 7, 'assists': 15}, 'Lars Eller': {'goals': 12, 'assists': 18}, 'John Carlson': {'goals': 12, 'assists': 35}, 'Justin Schultz': {'goals': 3, 'assists': 2}, 'Dmitry Orlov': {'goals': 3, 'assists': 17}, 'Richard Panik': {'goals': 9, 'assists': 13}, 'Nick Jensen': {'goals': 0, 'assists': 7}, 'Nic Dowd': {'goals': 4, 'assists': 8}, 'Brenden Dillon': {'goals': 1, 'assists': 12}, 'Evgeny Kuznetsov': {'goals': 15, 'assists': 27}, 'Tom Wilson': {'goals': 14, 'assists': 20}, 'Paul LaDue': {'goals': 0, 'assists': 1}, 'Conor Sheary': {'goals': 9, 'assists': 11}, 'Trevor van Riemsdyk': {'goals': 1, 'assists': 7}, 'Garnet Hathaway': {'goals': 9, 'assists': 6}, 'Jakub Vrana': {'goals': 25, 'assists': 16}, 'Vitek Vanecek': {'goals': 0, 'assists': 0}, 'Jonas Siegenthaler': {'goals': 2, 'assists': 7}, 'Ilya Samsonov': {'goals': 0, 'assists': 0}, 'Michal Kempny': {'goals': 3, 'assists': 14}, 'Brent Seabrook': {'goals': 2, 'assists': 1}, 'Andrew Shaw': {'goals': 2, 'assists': 6}, 'Michael Krutil': {'goals': 0, 'assists': 0}, 'Duncan Keith': {'goals': 1, 'assists': 15}, 'Jonathan Toews': {'goals': 21, 'assists': 34}, 'Patrick Kane': {'goals': 30, 'assists': 36}, 'Zack Smith': {'goals': 3, 'assists': 6}, 'Calvin de Haan': {'goals': 1, 'assists': 5}, 'Brandon Pirri': {'goals': 1, 'assists': 2}, 'Nick Seeler': {'goals': 0, 'assists': 1}, 'Connor Murphy': {'goals': 5, 'assists': 12}, 'Malcolm Subban': {'goals': 0, 'assists': 0}, 'Matt Tomkins': {'goals': 0, 'assists': 0}, 'Dominik Kubalik': {'goals': 26, 'assists': 12}, 'Mattias Janmark': {'goals': 4, 'assists': 9}, 'Nikita Zadorov': {'goals': 4, 'assists': 9}, 'Ryan Carpenter': {'goals': 2, 'assists': 10}, 'John Quenneville': {'goals': 0, 'assists': 0}, 'Lucas Wallmark': {'goals': 9, 'assists': 9}, 'Anton Lindholm': {'goals': 0, 'assists': 1}, 'Matthew Highmore': {'goals': 2, 'assists': 4}, 'Dylan Strome': {'goals': 9, 'assists': 20}, 'Alex DeBrincat': {'goals': 8, 'assists': 20}, 'Chad Krys': {'goals': 0, 'assists': 0}, 'Cam Morrison': {'goals': 0, 'assists': 0}, 'Alex Nylander': {'goals': 10, 'assists': 14}, 'Lucas Carlsson': {'goals': 0, 'assists': 1}, 'Brandon Hagel': {'goals': 0, 'assists': 0}, 'MacKenzie Entwistle': {'goals': 0, 'assists': 0}, 'Evan Barratt': {'goals': 0, 'assists': 0}, 'Ian Mitchell': {'goals': 0, 'assists': 0}, 'David Kampf': {'goals': 7, 'assists': 8}, 'Andrei Altybarmakian': {'goals': 0, 'assists': 0}, 'Tim Soderlund': {'goals': 0, 'assists': 0}, 'Wyatt Kalynuk': {'goals': 0, 'assists': 0}, 'Collin Delia': {'goals': 0, 'assists': 0}, 'Pius Suter': {'goals': 0, 'assists': 0}, 'Philipp Kurashev': {'goals': 0, 'assists': 0}, 'Nicolas Beaudin': {'goals': 0, 'assists': 0}, 'Alec Regula': {'goals': 0, 'assists': 0}, 'Adam Boqvist': {'goals': 4, 'assists': 7}, 'Kevin Lankinen': {'goals': 0, 'assists': 0}, 'Reese Johnson': {'goals': 0, 'assists': 0}, 'Michal Teply': {'goals': 0, 'assists': 0}, 'Matej Chalupa': {'goals': 0, 'assists': 0}, 'Danny DeKeyser': {'goals': 0, 'assists': 4}, 'Valtteri Filppula': {'goals': 4, 'assists': 11}, 'Frans Nielsen': {'goals': 3, 'assists': 2}, 'Thomas Greiss': {'goals': 0, 'assists': 0}, 'Bobby Ryan': {'goals': 5, 'assists': 3}, 'Marc Staal': {'goals': 2, 'assists': 9}, 'Darren Helm': {'goals': 8, 'assists': 6}, 'Alex Biega': {'goals': 0, 'assists': 3}, 'Jonathan Bernier': {'goals': 0, 'assists': 3}, 'Sam Gagner': {'goals': 3, 'assists': 6}, 'Patrik Nemeth': {'goals': 1, 'assists': 7}, 'Jon Merrill': {'goals': 2, 'assists': 3}, 'Vladislav Namestnikov': {'goals': 12, 'assists': 10}, 'Luke Glendening': {'goals': 5, 'assists': 3}, 'Riley Barber': {'goals': 0, 'assists': 0}, 'Adam Erne': {'goals': 2, 'assists': 3}, 'Tyler Bertuzzi': {'goals': 18, 'assists': 16}, 'Anthony Mantha': {'goals': 10, 'assists': 19}, 'Dylan Larkin': {'goals': 16, 'assists': 25}, 'Robby Fabbri': {'goals': 10, 'assists': 13}, 'Kevin Boyle': {'goals': 0, 'assists': 0}, 'Kyle Criscuolo': {'goals': 0, 'assists': 0}, 'Dennis Cholowski': {'goals': 1, 'assists': 2}, 'Filip Hronek': {'goals': 8, 'assists': 12}, 'Troy Stecher': {'goals': 5, 'assists': 12}, 'Gustav Lindstrom': {'goals': 0, 'assists': 0}, 'Filip Zadina': {'goals': 4, 'assists': 4}, 'Mathias Brome': {'goals': 0, 'assists': 0}, 'Philip Tomasino': {'goals': 0, 'assists': 0}, 'Brad Richardson': {'goals': 5, 'assists': 4}, 'Pekka Rinne': {'goals': 1, 'assists': 1}, 'Roman Josi': {'goals': 11, 'assists': 29}, 'Mark Borowiecki': {'goals': 6, 'assists': 10}, 'Matt Duchene': {'goals': 9, 'assists': 23}, 'Ryan Ellis': {'goals': 7, 'assists': 23}, 'Mattias Ekholm': {'goals': 7, 'assists': 19}, 'Erik Haula': {'goals': 8, 'assists': 8}, 'Calle Jarnkrok': {'goals': 11, 'assists': 12}, 'Ryan Johansen': {'goals': 10, 'assists': 15}, 'Jarred Tinordi': {'goals': 1, 'assists': 3}, 'Mikael Granlund': {'goals': 12, 'assists': 11}, 'Nick Cousins': {'goals': 7, 'assists': 13}, 'Rocco Grimaldi': {'goals': 11, 'assists': 20}, 'Filip Forsberg': {'goals': 18, 'assists': 20}, 'Colton Sissons': {'goals': 8, 'assists': 6}, 'Matt Benning': {'goals': 1, 'assists': 7}, 'Tyler Lewington': {'goals': 0, 'assists': 0}, 'Sean Malone': {'goals': 0, 'assists': 0}, 'Juuse Saros': {'goals': 0, 'assists': 0}, 'Ben Harpur': {'goals': 0, 'assists': 0}, 'Michael McCarron': {'goals': 0, 'assists': 0}, 'Viktor Arvidsson': {'goals': 10, 'assists': 9}, 'Anthony Richard': {'goals': 0, 'assists': 0}, 'Thomas Novak': {'goals': 0, 'assists': 0}, 'Yakov Trenin': {'goals': 2, 'assists': 4}, 'Alexandre Carrier': {'goals': 0, 'assists': 0}, 'Connor Ingram': {'goals': 0, 'assists': 0}, 'Luke Kunin': {'goals': 14, 'assists': 14}, 'Dante Fabbro': {'goals': 4, 'assists': 6}, 'Rem Pitlick': {'goals': 0, 'assists': 0}, 'Patrick Harper': {'goals': 0, 'assists': 0}, 'Jeremy Davies': {'goals': 0, 'assists': 0}, 'Michael Carcone': {'goals': 0, 'assists': 0}, 'Tanner Jeannot': {'goals': 0, 'assists': 0}, 'Mathieu Olivier': {'goals': 0, 'assists': 1}, 'Eeli Tolvanen': {'goals': 0, 'assists': 0}, 'Brandon Fortunato': {'goals': 0, 'assists': 0}, 'Josh Wilkins': {'goals': 0, 'assists': 0}, 'Cole Smith': {'goals': 0, 'assists': 0}, 'Luke Prokop': {'goals': 0, 'assists': 0}, 'Luke Evangelista': {'goals': 0, 'assists': 0}, 'Vladimir Tarasenko': {'goals': 2, 'assists': 5}, 'David Perron': {'goals': 18, 'assists': 17}, 'Carl Gunnarsson': {'goals': 2, 'assists': 4}, 'Robert Bortuzzo': {'goals': 2, 'assists': 4}, 'Marco Scandella': {'goals': 4, 'assists': 9}, 'Tyler Bozak': {'goals': 10, 'assists': 14}, \"Ryan O'Reilly\": {'goals': 11, 'assists': 32}, 'Kyle Clifford': {'goals': 7, 'assists': 10}, 'Brayden Schenn': {'goals': 15, 'assists': 22}, 'Curtis McKenzie': {'goals': 0, 'assists': 0}, 'Justin Faulk': {'goals': 4, 'assists': 8}, 'Jaden Schwartz': {'goals': 13, 'assists': 24}, 'Jordan Binnington': {'goals': 0, 'assists': 1}, 'Torey Krug': {'goals': 6, 'assists': 14}, 'Colton Parayko': {'goals': 7, 'assists': 15}, 'Oskar Sundqvist': {'goals': 11, 'assists': 10}, 'Jon Gillies': {'goals': 0, 'assists': 0}, 'Mackenzie MacEachern': {'goals': 7, 'assists': 3}, 'Jacob de la Rose': {'goals': 2, 'assists': 7}, 'Steven Santini': {'goals': 0, 'assists': 0}, 'Zach Sanford': {'goals': 15, 'assists': 14}, 'Nathan Walker': {'goals': 1, 'assists': 1}, 'Ivan Barbashev': {'goals': 9, 'assists': 14}, 'Jake Walman': {'goals': 0, 'assists': 0}, 'Ville Husso': {'goals': 0, 'assists': 0}, 'Austin Poganski': {'goals': 0, 'assists': 0}, 'Sammy Blais': {'goals': 6, 'assists': 7}, 'Vince Dunn': {'goals': 5, 'assists': 8}, 'Niko Mikkola': {'goals': 0, 'assists': 1}, 'Tanner Kaspick': {'goals': 0, 'assists': 0}, 'Jordan Kyrou': {'goals': 4, 'assists': 4}, 'Sam Anas': {'goals': 0, 'assists': 0}, 'Nolan Stevens': {'goals': 0, 'assists': 0}, 'Robert Thomas': {'goals': 9, 'assists': 26}, 'Mitch Reinke': {'goals': 0, 'assists': 0}, 'Joel Hofer': {'goals': 0, 'assists': 0}, 'Tyler Tucker': {'goals': 0, 'assists': 0}, 'Scott Perunovich': {'goals': 0, 'assists': 0}, 'Hugh McGing': {'goals': 0, 'assists': 0}, 'Jake Neighbours': {'goals': 0, 'assists': 0}, 'Johannes Kinnvall': {'goals': 0, 'assists': 0}, 'Mark Giordano': {'goals': 2, 'assists': 14}, 'Milan Lucic': {'goals': 3, 'assists': 9}, 'Mikael Backlund': {'goals': 10, 'assists': 22}, 'Jacob Markstrom': {'goals': 0, 'assists': 0}, 'Zac Rinaldo': {'goals': 3, 'assists': 2}, 'Byron Froese': {'goals': 0, 'assists': 0}, 'Christopher Tanev': {'goals': 2, 'assists': 16}, 'Alexander Petrovic': {'goals': 0, 'assists': 0}, 'Joakim Nordstrom': {'goals': 4, 'assists': 3}, 'Louis Domingue': {'goals': 0, 'assists': 0}, 'Nikita Nesterov': {'goals': 0, 'assists': 0}, 'Johnny Gaudreau': {'goals': 13, 'assists': 26}, 'Josh Leivo': {'goals': 8, 'assists': 8}, 'Buddy Robinson': {'goals': 1, 'assists': 0}, 'Elias Lindholm': {'goals': 21, 'assists': 14}, 'Sean Monahan': {'goals': 16, 'assists': 17}, 'Sam Bennett': {'goals': 8, 'assists': 2}, 'Justin Kirkland': {'goals': 0, 'assists': 0}, 'Luke Philp': {'goals': 0, 'assists': 0}, 'Andrew Mangiapane': {'goals': 17, 'assists': 14}, 'Noah Hanifin': {'goals': 4, 'assists': 11}, 'Rasmus Andersson': {'goals': 4, 'assists': 13}, 'Oliver Kylington': {'goals': 1, 'assists': 5}, 'Glenn Gawdin': {'goals': 0, 'assists': 0}, 'Derek Ryan': {'goals': 9, 'assists': 14}, 'Dominik Simon': {'goals': 7, 'assists': 14}, 'Matthew Tkachuk': {'goals': 21, 'assists': 23}, 'Dillon Dube': {'goals': 6, 'assists': 9}, 'Eetu Tuulola': {'goals': 0, 'assists': 0}, 'David Rittich': {'goals': 0, 'assists': 0}, 'Matthew Phillips': {'goals': 0, 'assists': 0}, 'Juuso Valimaki': {'goals': 0, 'assists': 0}, 'Adam Ruzicka': {'goals': 0, 'assists': 0}, 'Dmitry Zavgorodniy': {'goals': 0, 'assists': 0}, 'Mathias Emilio Pettersen': {'goals': 0, 'assists': 0}, 'Artyom Zagidulin': {'goals': 0, 'assists': 0}, 'Carl-Johan Lerby': {'goals': 0, 'assists': 0}, 'Alexander Yelesin': {'goals': 0, 'assists': 0}, 'Colton Poolman': {'goals': 0, 'assists': 0}, 'Connor Mackey': {'goals': 0, 'assists': 0}, 'Bowen Byram': {'goals': 0, 'assists': 0}, 'Erik Johnson': {'goals': 3, 'assists': 13}, 'Ian Cole': {'goals': 4, 'assists': 22}, 'Matt Calvert': {'goals': 9, 'assists': 12}, 'Nazem Kadri': {'goals': 15, 'assists': 10}, 'Joonas Donskoi': {'goals': 13, 'assists': 16}, 'Philipp Grubauer': {'goals': 0, 'assists': 0}, 'T.J. Tynan': {'goals': 0, 'assists': 1}, 'Brandon Saad': {'goals': 18, 'assists': 12}, 'Miikka Salomaki': {'goals': 1, 'assists': 0}, 'Gabriel Landeskog': {'goals': 15, 'assists': 14}, 'Jayson Megna': {'goals': 0, 'assists': 0}, 'Kyle Burroughs': {'goals': 0, 'assists': 0}, 'Ryan Graves': {'goals': 9, 'assists': 15}, 'Andre Burakovsky': {'goals': 18, 'assists': 16}, 'J.T. Compher': {'goals': 10, 'assists': 13}, 'Nathan MacKinnon': {'goals': 23, 'assists': 39}, 'Valeri Nichushkin': {'goals': 11, 'assists': 14}, 'Pierre-Edouard Bellemare': {'goals': 7, 'assists': 11}, 'Devon Toews': {'goals': 4, 'assists': 17}, 'Mikko Rantanen': {'goals': 11, 'assists': 16}, 'Dennis Gilbert': {'goals': 1, 'assists': 2}, 'Dan Renouf': {'goals': 0, 'assists': 0}, 'Tyson Jost': {'goals': 7, 'assists': 11}, 'Samuel Girard': {'goals': 3, 'assists': 18}, 'Jacob MacDonald': {'goals': 0, 'assists': 0}, 'Adam Werner': {'goals': 0, 'assists': 0}, 'Conor Timmins': {'goals': 0, 'assists': 0}, 'Nick Henry': {'goals': 0, 'assists': 0}, 'Shane Bowers': {'goals': 0, 'assists': 0}, 'Cale Makar': {'goals': 8, 'assists': 23}, 'Mike Vecchione': {'goals': 0, 'assists': 0}, 'Hunter Miska': {'goals': 0, 'assists': 0}, 'Sheldon Dries': {'goals': 0, 'assists': 0}, 'Kiefer Sherwood': {'goals': 0, 'assists': 1}, 'Martin Kaut': {'goals': 1, 'assists': 1}, 'Pavel Francouz': {'goals': 0, 'assists': 0}, \"Logan O'Connor\": {'goals': 2, 'assists': 0}, 'Mike Smith': {'goals': 0, 'assists': 0}, 'Adam Cracknell': {'goals': 0, 'assists': 0}, 'James Neal': {'goals': 7, 'assists': 7}, 'Kris Russell': {'goals': 0, 'assists': 8}, 'Kyle Turris': {'goals': 7, 'assists': 14}, 'Tyler Ennis': {'goals': 12, 'assists': 16}, 'Mikko Koskinen': {'goals': 0, 'assists': 0}, 'Alex Chiasson': {'goals': 5, 'assists': 6}, 'Zack Kassian': {'goals': 15, 'assists': 19}, 'Tyson Barrie': {'goals': 4, 'assists': 23}, 'Josh Archibald': {'goals': 9, 'assists': 7}, 'Anton Forsberg': {'goals': 0, 'assists': 0}, 'Alan Quine': {'goals': 1, 'assists': 0}, 'Ryan Nugent-Hopkins': {'goals': 15, 'assists': 21}, 'Adam Larsson': {'goals': 1, 'assists': 5}, 'Oscar Klefbom': {'goals': 3, 'assists': 12}, 'Seth Griffith': {'goals': 0, 'assists': 0}, 'Slater Koekkoek': {'goals': 1, 'assists': 9}, 'Jujhar Khaira': {'goals': 6, 'assists': 4}, 'Darnell Nurse': {'goals': 5, 'assists': 23}, 'Leon Draisaitl': {'goals': 28, 'assists': 38}, 'William Lagesson': {'goals': 0, 'assists': 0}, 'Connor McDavid': {'goals': 23, 'assists': 31}, 'Cooper Marody': {'goals': 0, 'assists': 0}, 'Ethan Bear': {'goals': 4, 'assists': 15}, 'Caleb Jones': {'goals': 4, 'assists': 4}, 'Markus Niemelainen': {'goals': 0, 'assists': 0}, 'Jesse Puljujarvi': {'goals': 0, 'assists': 0}, 'Tyler Benson': {'goals': 0, 'assists': 1}, 'Patrick Russell': {'goals': 0, 'assists': 5}, 'Stuart Skinner': {'goals': 0, 'assists': 0}, 'Kailer Yamamoto': {'goals': 9, 'assists': 15}, 'Ryan McLeod': {'goals': 0, 'assists': 0}, 'Evan Bouchard': {'goals': 0, 'assists': 0}, 'Dominik Kahun': {'goals': 11, 'assists': 18}, 'Joakim Nygard': {'goals': 1, 'assists': 6}, 'Gaetan Haas': {'goals': 5, 'assists': 3}, 'Theodor Lennstrom': {'goals': 0, 'assists': 0}, 'Micheal Ferland': {'goals': 1, 'assists': 4}, 'Loui Eriksson': {'goals': 6, 'assists': 7}, 'Alexander Edler': {'goals': 4, 'assists': 22}, 'Brandon Sutter': {'goals': 7, 'assists': 7}, 'Jay Beagle': {'goals': 1, 'assists': 5}, 'Tyler Myers': {'goals': 4, 'assists': 9}, 'Braden Holtby': {'goals': 0, 'assists': 1}, 'Jordie Benn': {'goals': 1, 'assists': 6}, 'Antoine Roussel': {'goals': 6, 'assists': 5}, 'J.T. Miller': {'goals': 20, 'assists': 27}, 'Tanner Pearson': {'goals': 17, 'assists': 16}, 'Nate Schmidt': {'goals': 5, 'assists': 17}, 'Tyler Motte': {'goals': 4, 'assists': 4}, 'Justin Bailey': {'goals': 0, 'assists': 0}, 'Bo Horvat': {'goals': 12, 'assists': 27}, 'Jake Virtanen': {'goals': 12, 'assists': 15}, 'Jayce Hawryluk': {'goals': 3, 'assists': 7}, 'Thatcher Demko': {'goals': 0, 'assists': 0}, 'Brock Boeser': {'goals': 11, 'assists': 20}, 'Adam Gaudette': {'goals': 8, 'assists': 13}, 'Jalen Chatfield': {'goals': 0, 'assists': 0}, 'Olli Juolevi': {'goals': 0, 'assists': 0}, 'William Lockwood': {'goals': 0, 'assists': 0}, 'Zack MacEwen': {'goals': 5, 'assists': 1}, 'Elias Pettersson': {'goals': 23, 'assists': 24}, 'Jack Rathbone': {'goals': 0, 'assists': 0}, 'Quinn Hughes': {'goals': 5, 'assists': 23}, 'Jett Woo': {'goals': 0, 'assists': 0}, 'Jake Kielly': {'goals': 0, 'assists': 0}, 'Brogan Rafferty': {'goals': 0, 'assists': 0}, 'Nils Hoglander': {'goals': 0, 'assists': 0}, 'Marc Michaelis': {'goals': 0, 'assists': 0}, 'Ryan Miller': {'goals': 0, 'assists': 0}, 'Ryan Getzlaf': {'goals': 11, 'assists': 23}, 'David Backes': {'goals': 0, 'assists': 5}, 'Kevin Shattenkirk': {'goals': 7, 'assists': 19}, 'Adam Henrique': {'goals': 21, 'assists': 13}, 'Derek Grant': {'goals': 10, 'assists': 8}, 'Jakob Silfverberg': {'goals': 17, 'assists': 15}, 'Nicolas Deslauriers': {'goals': 7, 'assists': 6}, 'Andrew Agozzino': {'goals': 1, 'assists': 2}, 'Cam Fowler': {'goals': 7, 'assists': 14}, 'Jani Hakanpaa': {'goals': 1, 'assists': 0}, 'Sam Carrick': {'goals': 0, 'assists': 1}, 'Josh Manson': {'goals': 1, 'assists': 7}, 'Andy Welinski': {'goals': 0, 'assists': 0}, 'John Gibson': {'goals': 0, 'assists': 0}, 'Rickard Rakell': {'goals': 14, 'assists': 18}, 'Hampus Lindholm': {'goals': 1, 'assists': 12}, 'Anthony Stolarz': {'goals': 0, 'assists': 0}, 'Christian Djoos': {'goals': 1, 'assists': 1}, 'Carter Rowney': {'goals': 6, 'assists': 9}, 'Sonny Milano': {'goals': 6, 'assists': 14}, 'Chase De Leo': {'goals': 0, 'assists': 0}, 'Danton Heinen': {'goals': 7, 'assists': 13}, 'Kodie Curran': {'goals': 0, 'assists': 0}, 'Brendan Guhle': {'goals': 4, 'assists': 4}, 'Jacob Larsson': {'goals': 2, 'assists': 8}, 'Troy Terry': {'goals': 4, 'assists': 9}, 'Andrew Poturalski': {'goals': 0, 'assists': 0}, 'Sam Steel': {'goals': 5, 'assists': 9}, 'Max Jones': {'goals': 7, 'assists': 3}, 'Josh Mahura': {'goals': 1, 'assists': 3}, 'Jack Kopacka': {'goals': 0, 'assists': 0}, 'Vinni Lettieri': {'goals': 0, 'assists': 0}, 'Antoine Morand': {'goals': 0, 'assists': 0}, 'Max Comtois': {'goals': 4, 'assists': 5}, 'Isac Lundestrom': {'goals': 0, 'assists': 2}, 'Lukas Dostal': {'goals': 0, 'assists': 0}, 'Benoit-Olivier Groulx': {'goals': 0, 'assists': 0}, 'Simon Benoit': {'goals': 0, 'assists': 0}, 'Brayden Tracey': {'goals': 0, 'assists': 0}, 'Jacob Perreault': {'goals': 0, 'assists': 0}, 'Stephen Johns': {'goals': 2, 'assists': 3}, 'Tyler Seguin': {'goals': 17, 'assists': 21}, 'Joe Pavelski': {'goals': 11, 'assists': 11}, 'Alexander Radulov': {'goals': 9, 'assists': 16}, 'Blake Comeau': {'goals': 7, 'assists': 7}, 'Andrej Sekera': {'goals': 1, 'assists': 5}, 'Anton Khudobin': {'goals': 0, 'assists': 3}, 'Andrew Cogliano': {'goals': 3, 'assists': 11}, 'Jamie Benn': {'goals': 11, 'assists': 14}, 'Justin Dowling': {'goals': 3, 'assists': 3}, 'Mark Pysyk': {'goals': 9, 'assists': 9}, 'John Klingberg': {'goals': 4, 'assists': 11}, 'Taylor Fedun': {'goals': 2, 'assists': 7}, 'Jamie Oleksiak': {'goals': 3, 'assists': 7}, 'Radek Faksa': {'goals': 8, 'assists': 9}, 'Esa Lindell': {'goals': 2, 'assists': 11}, 'Jason Dickinson': {'goals': 9, 'assists': 11}, 'Joel Hanley': {'goals': 0, 'assists': 2}, 'Julius Honka': {'goals': 0, 'assists': 0}, 'Roope Hintz': {'goals': 14, 'assists': 3}, 'Denis Gurianov': {'goals': 13, 'assists': 4}, 'Tanner Kero': {'goals': 0, 'assists': 0}, 'Ryan Shea': {'goals': 0, 'assists': 0}, 'Joseph Cecconi': {'goals': 0, 'assists': 0}, 'Riley Tufte': {'goals': 0, 'assists': 0}, 'Tye Felhaber': {'goals': 0, 'assists': 0}, 'Jake Oettinger': {'goals': 0, 'assists': 0}, 'Miro Heiskanen': {'goals': 7, 'assists': 20}, 'Ty Dellandrea': {'goals': 0, 'assists': 0}, 'Dawson Barteaux': {'goals': 0, 'assists': 0}, 'Thomas Harley': {'goals': 0, 'assists': 0}, 'Joel Kiviranta': {'goals': 1, 'assists': 0}, 'Jerad Rosburg': {'goals': 0, 'assists': 0}, 'Jeff Carter': {'goals': 14, 'assists': 8}, 'Dustin Brown': {'goals': 16, 'assists': 14}, 'Anze Kopitar': {'goals': 14, 'assists': 27}, 'Jonathan Quick': {'goals': 0, 'assists': 0}, 'Drew Doughty': {'goals': 2, 'assists': 18}, 'Mark Alt': {'goals': 0, 'assists': 0}, 'Olli Maatta': {'goals': 4, 'assists': 11}, 'Martin Frk': {'goals': 5, 'assists': 2}, 'Andreas Athanasiou': {'goals': 9, 'assists': 11}, 'Kurtis MacDermid': {'goals': 3, 'assists': 4}, 'Troy Grosenick': {'goals': 0, 'assists': 0}, 'Calvin Petersen': {'goals': 0, 'assists': 0}, 'Adrian Kempe': {'goals': 8, 'assists': 11}, 'Michael Amadio': {'goals': 6, 'assists': 7}, 'Bokondji Imama': {'goals': 0, 'assists': 0}, 'Austin Wagner': {'goals': 6, 'assists': 5}, 'Matt Roy': {'goals': 3, 'assists': 13}, 'Carl Grundstrom': {'goals': 0, 'assists': 4}, 'Kale Clague': {'goals': 0, 'assists': 0}, 'Jacob Moverare': {'goals': 0, 'assists': 0}, 'Michael Eyssimont': {'goals': 0, 'assists': 0}, 'Matt Luff': {'goals': 1, 'assists': 4}, 'Trevor Moore': {'goals': 6, 'assists': 3}, 'Jaret Anderson-Dolan': {'goals': 0, 'assists': 0}, 'Mikey Anderson': {'goals': 1, 'assists': 0}, 'Gabriel Vilardi': {'goals': 2, 'assists': 3}, 'Lias Andersson': {'goals': 0, 'assists': 1}, 'Alex Iafallo': {'goals': 11, 'assists': 23}, 'Matt Villalta': {'goals': 0, 'assists': 0}, 'Markus Phillips': {'goals': 0, 'assists': 0}, 'Cole Hults': {'goals': 0, 'assists': 0}, 'Sean Walker': {'goals': 5, 'assists': 14}, 'Sean Durzi': {'goals': 0, 'assists': 0}, 'Austin Strand': {'goals': 0, 'assists': 0}, 'Daniel Brickley': {'goals': 0, 'assists': 0}, 'Tyler Madden': {'goals': 0, 'assists': 0}, 'Rasmus Kupari': {'goals': 0, 'assists': 0}, 'Aidan Dudas': {'goals': 0, 'assists': 0}, 'Akil Thomas': {'goals': 0, 'assists': 0}, 'Jacob Ingham': {'goals': 0, 'assists': 0}, 'Samuel Fagemo': {'goals': 0, 'assists': 0}, 'Blake Lizotte': {'goals': 2, 'assists': 14}, 'Alex Turcotte': {'goals': 0, 'assists': 0}, 'Arthur Kaliyev': {'goals': 0, 'assists': 0}, 'Tobias Bjornfot': {'goals': 0, 'assists': 0}, 'Quinton Byfield': {'goals': 0, 'assists': 0}, 'Patrick Marleau': {'goals': 10, 'assists': 11}, 'Brent Burns': {'goals': 7, 'assists': 20}, 'Devan Dubnyk': {'goals': 0, 'assists': 0}, 'Marc-Edouard Vlasic': {'goals': 4, 'assists': 10}, 'Logan Couture': {'goals': 16, 'assists': 12}, 'Erik Karlsson': {'goals': 4, 'assists': 22}, 'Martin Jones': {'goals': 0, 'assists': 1}, 'Evander Kane': {'goals': 10, 'assists': 16}, 'Marcus Sorensen': {'goals': 6, 'assists': 11}, 'Matt Nieto': {'goals': 6, 'assists': 13}, 'Stefan Noesen': {'goals': 6, 'assists': 2}, 'Kurtis Gabriel': {'goals': 0, 'assists': 0}, 'Tomas Hertl': {'goals': 12, 'assists': 15}, 'Trevor Carrick': {'goals': 0, 'assists': 0}, 'Maxim Letunov': {'goals': 1, 'assists': 0}, 'Ryan Donato': {'goals': 16, 'assists': 7}, 'Kevin Labanc': {'goals': 12, 'assists': 13}, 'Jacob Middleton': {'goals': 0, 'assists': 2}, 'Timo Meier': {'goals': 20, 'assists': 20}, 'Nicolas Meloche': {'goals': 0, 'assists': 0}, 'Noah Gregor': {'goals': 2, 'assists': 1}, 'Joachim Blichfeld': {'goals': 0, 'assists': 0}, 'Dylan Gambrell': {'goals': 5, 'assists': 5}, 'Jeffrey Truchon-Viel': {'goals': 0, 'assists': 0}, 'Mario Ferraro': {'goals': 2, 'assists': 8}, 'Alexander Chmelevski': {'goals': 0, 'assists': 0}, 'Nick DeSimone': {'goals': 0, 'assists': 0}, 'Radim Simek': {'goals': 2, 'assists': 7}, 'Jayden Halbgewachs': {'goals': 0, 'assists': 0}, 'Josef Korenar': {'goals': 0, 'assists': 0}, 'Alexander True': {'goals': 0, 'assists': 4}, 'Ryan Merkley': {'goals': 0, 'assists': 0}, 'Antti Suomela': {'goals': 1, 'assists': 6}, 'John Leonard': {'goals': 0, 'assists': 0}, 'Joel Kellman': {'goals': 3, 'assists': 3}, 'Lean Bergmann': {'goals': 0, 'assists': 1}, 'Nikolai Knyzhov': {'goals': 0, 'assists': 0}, 'Alexei Melnichuk': {'goals': 0, 'assists': 0}, 'Fredrik Handemark': {'goals': 0, 'assists': 0}, 'Brinson Pasichnuk': {'goals': 0, 'assists': 0}, 'Brandon Dubinsky': {'goals': 0, 'assists': 0}, 'Mikko Koivu': {'goals': 4, 'assists': 10}, 'Nathan Gerbe': {'goals': 4, 'assists': 6}, 'Nick Foligno': {'goals': 8, 'assists': 18}, 'Riley Nash': {'goals': 4, 'assists': 9}, 'Gustav Nyquist': {'goals': 12, 'assists': 21}, 'Cam Atkinson': {'goals': 9, 'assists': 9}, 'David Savard': {'goals': 0, 'assists': 9}, 'Boone Jenner': {'goals': 9, 'assists': 10}, 'Scott Harrington': {'goals': 1, 'assists': 7}, 'Stefan Matteau': {'goals': 2, 'assists': 1}, 'Mikhail Grigorenko': {'goals': 0, 'assists': 0}, 'Joonas Korpisalo': {'goals': 0, 'assists': 1}, 'Oliver Bjorkstrand': {'goals': 18, 'assists': 12}, 'Seth Jones': {'goals': 4, 'assists': 16}, 'Max Domi': {'goals': 15, 'assists': 17}, 'Ryan MacInnis': {'goals': 0, 'assists': 1}, 'Elvis Merzlikins': {'goals': 0, 'assists': 0}, 'Zach Werenski': {'goals': 14, 'assists': 12}, 'Gabriel Carlsson': {'goals': 0, 'assists': 0}, 'Dean Kukan': {'goals': 0, 'assists': 4}, 'Kevin Stenlund': {'goals': 3, 'assists': 2}, 'Vladislav Gavrikov': {'goals': 5, 'assists': 13}, 'Kole Sherwood': {'goals': 0, 'assists': 0}, 'Andrew Peeke': {'goals': 1, 'assists': 2}, 'Cliff Pu': {'goals': 0, 'assists': 0}, 'Pierre-Luc Dubois': {'goals': 19, 'assists': 22}, 'Gavin Bayreuther': {'goals': 0, 'assists': 0}, 'Alexandre Texier': {'goals': 6, 'assists': 6}, 'Matiss Kivlenieks': {'goals': 0, 'assists': 0}, 'Emil Bemstrom': {'goals': 5, 'assists': 7}, 'Trey Fix-Wolansky': {'goals': 0, 'assists': 0}, 'Eric Robinson': {'goals': 7, 'assists': 5}, 'Liam Foudy': {'goals': 0, 'assists': 1}, 'Jacob Christiansen': {'goals': 0, 'assists': 0}, 'Marco Rossi': {'goals': 0, 'assists': 0}, 'Ryan Suter': {'goals': 5, 'assists': 23}, 'Zach Parise': {'goals': 13, 'assists': 15}, 'Alex Stalock': {'goals': 0, 'assists': 1}, 'Nick Bonino': {'goals': 17, 'assists': 17}, 'Greg Pateryn': {'goals': 0, 'assists': 3}, 'Jared Spurgeon': {'goals': 9, 'assists': 9}, 'Marcus Johansson': {'goals': 8, 'assists': 16}, 'Marcus Foligno': {'goals': 11, 'assists': 14}, 'Gabriel Dumont': {'goals': 0, 'assists': 0}, 'Cam Talbot': {'goals': 0, 'assists': 0}, 'Mats Zuccarello': {'goals': 13, 'assists': 18}, 'Nick Bjugstad': {'goals': 1, 'assists': 1}, 'Joseph Cramarossa': {'goals': 0, 'assists': 0}, 'Kyle Rau': {'goals': 0, 'assists': 0}, 'Victor Rask': {'goals': 5, 'assists': 8}, 'Jonas Brodin': {'goals': 2, 'assists': 22}, 'Brad Hunt': {'goals': 5, 'assists': 4}, 'Matt Dumba': {'goals': 5, 'assists': 10}, 'Andrew Hammond': {'goals': 0, 'assists': 0}, 'Carson Soucy': {'goals': 6, 'assists': 7}, 'Ryan Hartman': {'goals': 8, 'assists': 11}, 'Ian McCoshen': {'goals': 0, 'assists': 0}, 'Dakota Mermis': {'goals': 1, 'assists': 3}, 'Kevin Fiala': {'goals': 14, 'assists': 22}, 'Louie Belpedio': {'goals': 0, 'assists': 0}, 'Kaapo Kahkonen': {'goals': 0, 'assists': 0}, 'Jordan Greenway': {'goals': 8, 'assists': 17}, 'Joel Eriksson Ek': {'goals': 7, 'assists': 19}, 'Kirill Kaprizov': {'goals': 0, 'assists': 0}, 'Gerald Mayhew': {'goals': 2, 'assists': 0}, 'Mason Shaw': {'goals': 0, 'assists': 0}, 'Dereck Baribeau': {'goals': 0, 'assists': 0}, 'Calen Addison': {'goals': 0, 'assists': 0}, 'Connor Dewar': {'goals': 0, 'assists': 0}, 'Nico Sturm': {'goals': 0, 'assists': 2}, 'Mitchell Chaffee': {'goals': 0, 'assists': 0}, 'Bryan Little': {'goals': 2, 'assists': 3}, 'Jack Roslovic': {'goals': 10, 'assists': 16}, 'Nate Thompson': {'goals': 4, 'assists': 10}, 'Blake Wheeler': {'goals': 20, 'assists': 24}, 'Paul Stastny': {'goals': 11, 'assists': 15}, 'Mathieu Perreault': {'goals': 5, 'assists': 8}, 'Luca Sbisa': {'goals': 2, 'assists': 8}, 'Derek Forbort': {'goals': 0, 'assists': 1}, 'Laurent Brossoit': {'goals': 0, 'assists': 0}, 'Dylan DeMelo': {'goals': 0, 'assists': 8}, 'Adam Lowry': {'goals': 3, 'assists': 5}, 'Mark Scheifele': {'goals': 20, 'assists': 34}, 'Nathan Beaulieu': {'goals': 1, 'assists': 7}, 'Connor Hellebuyck': {'goals': 0, 'assists': 1}, 'Dominic Toninato': {'goals': 3, 'assists': 7}, 'Tucker Poolman': {'goals': 3, 'assists': 12}, 'Andrew Copp': {'goals': 9, 'assists': 12}, 'Eric Comrie': {'goals': 0, 'assists': 0}, 'Josh Morrissey': {'goals': 4, 'assists': 13}, 'Nikolaj Ehlers': {'goals': 20, 'assists': 31}, 'CJ Suess': {'goals': 0, 'assists': 0}, 'Kyle Connor': {'goals': 29, 'assists': 25}, 'Jansen Harkins': {'goals': 2, 'assists': 4}, 'Mason Appleton': {'goals': 4, 'assists': 3}, 'Sami Niku': {'goals': 0, 'assists': 5}, 'Patrik Laine': {'goals': 22, 'assists': 26}, 'Luke Green': {'goals': 0, 'assists': 0}, 'Mikhail Berdin': {'goals': 0, 'assists': 0}, 'Neal Pionk': {'goals': 3, 'assists': 15}, 'Kristian Reichel': {'goals': 0, 'assists': 0}, 'Declan Chisholm': {'goals': 0, 'assists': 0}, 'David Gustafsson': {'goals': 1, 'assists': 0}, 'Alex Goligoski': {'goals': 2, 'assists': 19}, 'Niklas Hjalmarsson': {'goals': 1, 'assists': 3}, 'Derick Brassard': {'goals': 7, 'assists': 13}, 'Phil Kessel': {'goals': 5, 'assists': 16}, 'Jason Demers': {'goals': 0, 'assists': 10}, 'Oliver Ekman-Larsson': {'goals': 6, 'assists': 16}, 'Darcy Kuemper': {'goals': 0, 'assists': 0}, 'Johan Larsson': {'goals': 6, 'assists': 12}, 'Tyler Pitlick': {'goals': 8, 'assists': 12}, 'Antti Raanta': {'goals': 0, 'assists': 0}, 'John Hayden': {'goals': 3, 'assists': 1}, 'Jordan Oesterle': {'goals': 3, 'assists': 8}, 'Nick Schmaltz': {'goals': 13, 'assists': 23}, 'Christian Dvorak': {'goals': 14, 'assists': 16}, 'Christian Fischer': {'goals': 6, 'assists': 3}, 'Lawson Crouse': {'goals': 14, 'assists': 10}, 'Kyle Capobianco': {'goals': 1, 'assists': 0}, 'Adin Hill': {'goals': 0, 'assists': 0}, 'Conor Garland': {'goals': 22, 'assists': 11}, 'Clayton Keller': {'goals': 15, 'assists': 14}, 'Jakob Chychrun': {'goals': 7, 'assists': 11}, 'Drake Caggiula': {'goals': 8, 'assists': 5}, 'Barrett Hayton': {'goals': 1, 'assists': 3}, 'Ilya Lyubushkin': {'goals': 0, 'assists': 4}, 'Victor Soderstrom': {'goals': 0, 'assists': 0}, 'Peyton Krebs': {'goals': 0, 'assists': 0}, 'Marc-Andre Fleury': {'goals': 0, 'assists': 0}, 'Ryan Reaves': {'goals': 8, 'assists': 7}, 'Max Pacioretty': {'goals': 23, 'assists': 22}, 'Alec Martinez': {'goals': 3, 'assists': 9}, 'Nick Holden': {'goals': 5, 'assists': 6}, 'Alex Pietrangelo': {'goals': 10, 'assists': 19}, 'Brayden McNabb': {'goals': 1, 'assists': 7}, 'Reilly Smith': {'goals': 21, 'assists': 23}, 'Robin Lehner': {'goals': 0, 'assists': 0}, 'Mark Stone': {'goals': 13, 'assists': 30}, 'Tomas Jurco': {'goals': 0, 'assists': 2}, 'William Karlsson': {'goals': 11, 'assists': 21}, 'Jonathan Marchessault': {'goals': 20, 'assists': 19}, 'Oscar Dansk': {'goals': 0, 'assists': 0}, 'Chandler Stephenson': {'goals': 8, 'assists': 13}, \"Danny O'Regan\": {'goals': 0, 'assists': 0}, 'Tyrell Goulbourne': {'goals': 0, 'assists': 0}, 'Shea Theodore': {'goals': 13, 'assists': 15}, 'Carl Dahlstrom': {'goals': 0, 'assists': 1}, 'William Carrier': {'goals': 7, 'assists': 12}, 'Tomas Nosek': {'goals': 7, 'assists': 7}, 'Alex Tuch': {'goals': 6, 'assists': 5}, 'Reid Duke': {'goals': 0, 'assists': 0}, 'Dylan Sikura': {'goals': 1, 'assists': 2}, 'Nicolas Roy': {'goals': 4, 'assists': 5}, 'Dylan Coghlan': {'goals': 0, 'assists': 0}, 'Cody Glass': {'goals': 4, 'assists': 2}, 'Lucas Elvenes': {'goals': 0, 'assists': 0}, 'Jack Dugan': {'goals': 0, 'assists': 0}, 'Ben Jones': {'goals': 0, 'assists': 0}, 'Logan Thompson': {'goals': 0, 'assists': 0}, 'Zach Whitecloud': {'goals': 0, 'assists': 1}, 'Connor Corcoran': {'goals': 0, 'assists': 0}, 'Paul Cotter': {'goals': 0, 'assists': 0}, 'Brayden Pachal': {'goals': 0, 'assists': 0}}\n"
     ]
    }
   ],
   "source": [
    "# reset stats to zeros\n",
    "for player in stats:\n",
    "    stats[player]['goals'] = 0\n",
    "    stats[player]['assists'] = 0\n",
    "    \n",
    "# start counting from first game of season\n",
    "for i in range(1, len(game_data)): \n",
    "    if game_data[i]['result']['event'] == 'Goal':\n",
    "        #print(game_data[i])\n",
    "        for player in game_data[i]['players']:\n",
    "            if player['playerType'] == 'Scorer':        # Increment player's goal count\n",
    "                name = player['player']['fullName']\n",
    "                if name in stats:\n",
    "                    stats[name]['goals'] = stats[name]['goals'] + 1\n",
    "            if player['playerType'] == 'Assist':        # Increment player's assist count\n",
    "                name = player['player']['fullName']\n",
    "                if name in stats:\n",
    "                    stats[name]['assists'] = stats[name]['assists'] + 1\n",
    "print(stats)"
   ]
  },
  {
   "cell_type": "markdown",
   "metadata": {},
   "source": [
    "### Check totals"
   ]
  },
  {
   "cell_type": "code",
   "execution_count": 73,
   "metadata": {},
   "outputs": [
    {
     "name": "stdout",
     "output_type": "stream",
     "text": [
      "Goals: 4830\n",
      "Assists: 7592\n",
      "Total Points: 12422\n"
     ]
    }
   ],
   "source": [
    "goals = 0\n",
    "assists = 0\n",
    "for player in stats:\n",
    "    goals = goals + stats[player]['goals']\n",
    "    assists = assists + stats[player]['assists']\n",
    "\n",
    "print('Goals: ' + str(goals))\n",
    "print('Assists: ' + str(assists))\n",
    "print('Total Points: ' + str(goals + assists))"
   ]
  },
  {
   "cell_type": "markdown",
   "metadata": {},
   "source": [
    "### Store data with pickle"
   ]
  },
  {
   "cell_type": "code",
   "execution_count": 76,
   "metadata": {},
   "outputs": [],
   "source": [
    "year = '2019'\n",
    "with open('./input/'+year+'evStats.pkl', 'wb') as f:\n",
    "    pickle.dump(game_data, f, pickle.HIGHEST_PROTOCOL)"
   ]
  },
  {
   "cell_type": "markdown",
   "metadata": {},
   "source": [
    "# Calculate Even Strength Totals for Lines\n",
    "We will use DailyFaceoff.com for current line combinations"
   ]
  },
  {
   "cell_type": "code",
   "execution_count": 120,
   "metadata": {},
   "outputs": [],
   "source": [
    "#### Via DailyFaceoff.com ####\n",
    "line_players = {\n",
    "    'CAR_F1' : {'Sebastian Aho', 'Teuvo Teravainen', 'Nino Niederreiter'},\n",
    "    'CAR_F2' : {'Jesper Fast', 'Vincent Trocheck', 'Andrei Svechnikov'},\n",
    "    'CAR_F3' : {'Warren Foegele', 'Jordan Staal', 'Martin Necas'},\n",
    "    'CAR_F4' : {'Ryan Dzingel', 'Morgan Geekie', 'Brock McGinn'},\n",
    "    \n",
    "    'EDM_F1' : {'Ryan Nugent-Hopkins', 'Connor McDavid', 'Zack Kassian'},\n",
    "    'EDM_F2' : {'Dominik Kahun', 'Leon Draisaitl', 'Kailer Yamamoto'},\n",
    "    'EDM_F3' : {'Tyler Ennis', 'Kyle Turris', 'Jesse Puljujarvi'},\n",
    "    'EDM_F4' : {'Josh Archibald', 'Jujhar Khaira', 'Alex Chiasson'},\n",
    "    \n",
    "    'TOR_F1' : {'Joe Thornton', 'Auston Matthews', 'Mitchell Marner'},\n",
    "    'TOR_F2' : {'Jimmy Vesey', 'John Tavares', 'William Nylander'},\n",
    "    'TOR_F3' : {'Ilya Mikheyev', 'Alexander Kerfoot', 'Zach Hyman'},\n",
    "    'TOR_F4' : {'Alexander Barabanov', 'Jason Spezza', 'Wayne Simmonds'},\n",
    "}\n",
    "\n",
    "line_totals = {\n",
    "    'CAR_F1' : {'goals': 0, 'assists' : 0},\n",
    "    'CAR_F2' : {'goals': 0, 'assists' : 0},\n",
    "    'CAR_F3' : {'goals': 0, 'assists' : 0},\n",
    "    'CAR_F4' : {'goals': 0, 'assists' : 0},\n",
    "    \n",
    "    'EDM_F1' : {'goals': 0, 'assists' : 0},\n",
    "    'EDM_F2' : {'goals': 0, 'assists' : 0},\n",
    "    'EDM_F3' : {'goals': 0, 'assists' : 0},\n",
    "    'EDM_F4' : {'goals': 0, 'assists' : 0},\n",
    "    \n",
    "    'TOR_F1' : {'goals': 0, 'assists' : 0},\n",
    "    'TOR_F2' : {'goals': 0, 'assists' : 0},\n",
    "    'TOR_F3' : {'goals': 0, 'assists' : 0},\n",
    "    'TOR_F4' : {'goals': 0, 'assists' : 0},\n",
    "}"
   ]
  },
  {
   "cell_type": "code",
   "execution_count": 121,
   "metadata": {},
   "outputs": [
    {
     "name": "stdout",
     "output_type": "stream",
     "text": [
      "{'CAR_F1': {'assists': 0, 'goals': 0},\n",
      " 'CAR_F2': {'assists': 0, 'goals': 0},\n",
      " 'CAR_F3': {'assists': 0, 'goals': 0},\n",
      " 'CAR_F4': {'assists': 0, 'goals': 0},\n",
      " 'EDM_F1': {'assists': 0, 'goals': 0},\n",
      " 'EDM_F2': {'assists': 0, 'goals': 0},\n",
      " 'EDM_F3': {'assists': 0, 'goals': 0},\n",
      " 'EDM_F4': {'assists': 0, 'goals': 0},\n",
      " 'TOR_F1': {'assists': 0, 'goals': 0},\n",
      " 'TOR_F2': {'assists': 0, 'goals': 0},\n",
      " 'TOR_F3': {'assists': 0, 'goals': 0},\n",
      " 'TOR_F4': {'assists': 0, 'goals': 0}}\n"
     ]
    }
   ],
   "source": [
    "pprint.pprint(line_totals)"
   ]
  },
  {
   "cell_type": "code",
   "execution_count": 122,
   "metadata": {},
   "outputs": [
    {
     "name": "stdout",
     "output_type": "stream",
     "text": [
      "CAR_F1 Sebastian Aho G26 A18\n",
      "TOR_F1 Joe Thornton G4 A19\n",
      "TOR_F4 Jason Spezza G9 A11\n",
      "TOR_F4 Wayne Simmonds G3 A13\n",
      "TOR_F2 John Tavares G18 A19\n",
      "TOR_F3 Zach Hyman G17 A13\n",
      "TOR_F2 Jimmy Vesey G8 A10\n",
      "TOR_F3 Alexander Kerfoot G8 A17\n",
      "TOR_F2 William Nylander G23 A20\n",
      "TOR_F1 Mitchell Marner G8 A32\n",
      "TOR_F1 Auston Matthews G35 A19\n",
      "TOR_F3 Ilya Mikheyev G7 A15\n",
      "TOR_F4 Alexander Barabanov G0 A0\n",
      "CAR_F3 Jordan Staal G6 A17\n",
      "CAR_F1 Nino Niederreiter G7 A10\n",
      "CAR_F2 Jesper Fast G10 A17\n",
      "CAR_F4 Ryan Dzingel G4 A16\n",
      "CAR_F2 Vincent Trocheck G12 A21\n",
      "CAR_F1 Teuvo Teravainen G12 A28\n",
      "CAR_F4 Brock McGinn G5 A10\n",
      "CAR_F3 Warren Foegele G10 A17\n",
      "CAR_F4 Morgan Geekie G3 A1\n",
      "CAR_F3 Martin Necas G11 A14\n",
      "CAR_F2 Andrei Svechnikov G20 A22\n",
      "EDM_F3 Kyle Turris G7 A14\n",
      "EDM_F3 Tyler Ennis G12 A16\n",
      "EDM_F4 Alex Chiasson G5 A6\n",
      "EDM_F1 Zack Kassian G15 A19\n",
      "EDM_F4 Josh Archibald G9 A7\n",
      "EDM_F1 Ryan Nugent-Hopkins G15 A21\n",
      "EDM_F4 Jujhar Khaira G6 A4\n",
      "EDM_F2 Leon Draisaitl G28 A38\n",
      "EDM_F1 Connor McDavid G23 A31\n",
      "EDM_F3 Jesse Puljujarvi G0 A0\n",
      "EDM_F2 Kailer Yamamoto G9 A15\n",
      "EDM_F2 Dominik Kahun G11 A18\n",
      "{'CAR_F1': {'assists': 56, 'goals': 45},\n",
      " 'CAR_F2': {'assists': 60, 'goals': 42},\n",
      " 'CAR_F3': {'assists': 48, 'goals': 27},\n",
      " 'CAR_F4': {'assists': 27, 'goals': 12},\n",
      " 'EDM_F1': {'assists': 71, 'goals': 53},\n",
      " 'EDM_F2': {'assists': 71, 'goals': 48},\n",
      " 'EDM_F3': {'assists': 30, 'goals': 19},\n",
      " 'EDM_F4': {'assists': 17, 'goals': 20},\n",
      " 'TOR_F1': {'assists': 70, 'goals': 47},\n",
      " 'TOR_F2': {'assists': 49, 'goals': 49},\n",
      " 'TOR_F3': {'assists': 45, 'goals': 32},\n",
      " 'TOR_F4': {'assists': 24, 'goals': 12}}\n"
     ]
    }
   ],
   "source": [
    "# reset line_totals to zeros\n",
    "for line in line_totals:\n",
    "    line_totals[line]['goals'] = 0\n",
    "    line_totals[line]['assists'] = 0\n",
    "\n",
    "# loop through all players, if player is in one of the lines, append their goals/assists to line_totals\n",
    "for player in stats:\n",
    "    for line in line_players:\n",
    "        if player in line_players[line]:\n",
    "            print(line + ' ' + player + ' G' + str(stats[player]['goals']) + ' A' + str(stats[player]['assists']))\n",
    "            line_totals[line]['goals'] = line_totals[line]['goals'] + stats[player]['goals']\n",
    "            line_totals[line]['assists'] = line_totals[line]['assists'] + stats[player]['assists']\n",
    "pprint.pprint(line_totals)"
   ]
  },
  {
   "cell_type": "code",
   "execution_count": 123,
   "metadata": {},
   "outputs": [
    {
     "data": {
      "text/html": [
       "<div>\n",
       "<style scoped>\n",
       "    .dataframe tbody tr th:only-of-type {\n",
       "        vertical-align: middle;\n",
       "    }\n",
       "\n",
       "    .dataframe tbody tr th {\n",
       "        vertical-align: top;\n",
       "    }\n",
       "\n",
       "    .dataframe thead th {\n",
       "        text-align: right;\n",
       "    }\n",
       "</style>\n",
       "<table border=\"1\" class=\"dataframe\">\n",
       "  <thead>\n",
       "    <tr style=\"text-align: right;\">\n",
       "      <th></th>\n",
       "      <th>CAR_F1</th>\n",
       "      <th>CAR_F2</th>\n",
       "      <th>CAR_F3</th>\n",
       "      <th>CAR_F4</th>\n",
       "      <th>EDM_F1</th>\n",
       "      <th>EDM_F2</th>\n",
       "      <th>EDM_F3</th>\n",
       "      <th>EDM_F4</th>\n",
       "      <th>TOR_F1</th>\n",
       "      <th>TOR_F2</th>\n",
       "      <th>TOR_F3</th>\n",
       "      <th>TOR_F4</th>\n",
       "    </tr>\n",
       "  </thead>\n",
       "  <tbody>\n",
       "    <tr>\n",
       "      <th>goals</th>\n",
       "      <td>45</td>\n",
       "      <td>42</td>\n",
       "      <td>27</td>\n",
       "      <td>12</td>\n",
       "      <td>53</td>\n",
       "      <td>48</td>\n",
       "      <td>19</td>\n",
       "      <td>20</td>\n",
       "      <td>47</td>\n",
       "      <td>49</td>\n",
       "      <td>32</td>\n",
       "      <td>12</td>\n",
       "    </tr>\n",
       "    <tr>\n",
       "      <th>assists</th>\n",
       "      <td>56</td>\n",
       "      <td>60</td>\n",
       "      <td>48</td>\n",
       "      <td>27</td>\n",
       "      <td>71</td>\n",
       "      <td>71</td>\n",
       "      <td>30</td>\n",
       "      <td>17</td>\n",
       "      <td>70</td>\n",
       "      <td>49</td>\n",
       "      <td>45</td>\n",
       "      <td>24</td>\n",
       "    </tr>\n",
       "  </tbody>\n",
       "</table>\n",
       "</div>"
      ],
      "text/plain": [
       "         CAR_F1  CAR_F2  CAR_F3  CAR_F4  EDM_F1  EDM_F2  EDM_F3  EDM_F4  \\\n",
       "goals        45      42      27      12      53      48      19      20   \n",
       "assists      56      60      48      27      71      71      30      17   \n",
       "\n",
       "         TOR_F1  TOR_F2  TOR_F3  TOR_F4  \n",
       "goals        47      49      32      12  \n",
       "assists      70      49      45      24  "
      ]
     },
     "execution_count": 123,
     "metadata": {},
     "output_type": "execute_result"
    }
   ],
   "source": [
    "pd.DataFrame.from_dict(line_totals)"
   ]
  },
  {
   "cell_type": "code",
   "execution_count": null,
   "metadata": {},
   "outputs": [],
   "source": []
  },
  {
   "cell_type": "code",
   "execution_count": null,
   "metadata": {},
   "outputs": [],
   "source": [
    "\n",
    "\n",
    "\n",
    "\n",
    "\n",
    "\n",
    "\n",
    "\n",
    "\n",
    "\n",
    "\n",
    "\n",
    "\n",
    "\n",
    "\n",
    "\n",
    "\n",
    "\n",
    "\n",
    "\n",
    "\n",
    "\n",
    "\n",
    "\n",
    "\n",
    "\n",
    "\n",
    "\n",
    "\n",
    "\n",
    "\n",
    "\n",
    "\n",
    "\n",
    "\n",
    "\n",
    "\n",
    "\n",
    "\n",
    "\n",
    "\n",
    "\n",
    "\n",
    "\n",
    "\n",
    "\n",
    "\n"
   ]
  }
 ],
 "metadata": {
  "kernelspec": {
   "display_name": "Python 3",
   "language": "python",
   "name": "python3"
  },
  "language_info": {
   "codemirror_mode": {
    "name": "ipython",
    "version": 3
   },
   "file_extension": ".py",
   "mimetype": "text/x-python",
   "name": "python",
   "nbconvert_exporter": "python",
   "pygments_lexer": "ipython3",
   "version": "3.8.1"
  }
 },
 "nbformat": 4,
 "nbformat_minor": 4
}
