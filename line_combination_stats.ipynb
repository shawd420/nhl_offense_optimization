{
 "cells": [
  {
   "cell_type": "markdown",
   "metadata": {},
   "source": [
    "# Count Stats for each Line Combination"
   ]
  },
  {
   "cell_type": "code",
   "execution_count": 1,
   "metadata": {},
   "outputs": [],
   "source": [
    "import numpy as np \n",
    "import pandas as pd\n",
    "import json\n",
    "import pprint\n",
    "import unidecode\n",
    "import matplotlib.pyplot as plt"
   ]
  },
  {
   "cell_type": "markdown",
   "metadata": {},
   "source": [
    "### Load, Clean, and Filter Datasets"
   ]
  },
  {
   "cell_type": "code",
   "execution_count": 2,
   "metadata": {},
   "outputs": [],
   "source": [
    "# load dataset for all stats data\n",
    "with open('input/2019statsAndShotLoc.json', 'rb') as f:\n",
    "    stats = json.load(f)\n",
    "\n",
    "# load txt file containing line combinations\n",
    "with open('input/lineCombinations.json', 'r') as f:\n",
    "    line_combinations = json.load(f)"
   ]
  },
  {
   "cell_type": "code",
   "execution_count": 3,
   "metadata": {},
   "outputs": [],
   "source": [
    "# the datasets stats and line_combinations came from different sources\n",
    "## there is discrepancies in the capitalizations of names ex. Nathan MacKinnon vs Nathan Mackinnon\n",
    "### these discrepancies cause errors in stat counting\n",
    "stats = {k.lower(): v for k, v in stats.items()}\n",
    "stats = {unidecode.unidecode(k): v for k, v in stats.items()}\n",
    "stats = {k.replace('.', ''): v for k, v in stats.items()}\n",
    "\n",
    "for line in line_combinations:\n",
    "    line_combinations[line] = {k.lower(): v for k, v in line_combinations[line].items()}\n",
    "    line_combinations[line] = {unidecode.unidecode(k): v for k, v in line_combinations[line].items()}\n",
    "    line_combinations[line] = {k.replace('.', ''): v for k, v in line_combinations[line].items()}"
   ]
  },
  {
   "cell_type": "code",
   "execution_count": 4,
   "metadata": {},
   "outputs": [],
   "source": [
    "# I only care about forward line combinations, filter out all other lines\n",
    "line_combinations_forwards = {}\n",
    "\n",
    "for line in line_combinations:\n",
    "    if line[-2] == 'F':\n",
    "        line_combinations_forwards[line] = line_combinations[line]"
   ]
  },
  {
   "cell_type": "markdown",
   "metadata": {},
   "source": [
    "### Merge Datasets into one Structure"
   ]
  },
  {
   "cell_type": "code",
   "execution_count": 5,
   "metadata": {},
   "outputs": [],
   "source": [
    "# Initialize line_stats dict\n",
    "line_stats = {}\n",
    "\n",
    "for line in line_combinations_forwards:\n",
    "    line_stats[line] = {}\n",
    "    line_stats[line]['goals'] = 0\n",
    "    line_stats[line]['assists'] = 0\n",
    "    zone = ''\n",
    "    for i in range(0,7):\n",
    "        zone = 'count_zone' + str(i)      # column for count of shots in each zone\n",
    "        line_stats[line][zone] = 0\n",
    "        zone = 'percent_zone' + str(i)\n",
    "        line_stats[line][zone] = 0        # column for percent of shots in each zone\n",
    "    line_stats[line]['count_var'] = 0\n",
    "    line_stats[line]['percent_var'] = 0\n",
    "    line_stats[line]['total_shots'] = 0"
   ]
  },
  {
   "cell_type": "code",
   "execution_count": 6,
   "metadata": {},
   "outputs": [],
   "source": [
    "# loop through all players in stats\n",
    "# if player is in one of the lines: append their goals/assists to line_totals\n",
    "for player in stats:\n",
    "    for line in line_combinations_forwards:\n",
    "        if player in line_combinations_forwards[line]:\n",
    "            # print(line + ' ' + player + ' G' + str(stats[player]['goals']) + ' A' + str(stats[player]['assists']))\n",
    "            line_stats[line]['goals'] = line_stats[line]['goals'] + stats[player]['goals']\n",
    "            line_stats[line]['assists'] = line_stats[line]['assists'] + stats[player]['assists']\n",
    "            \n",
    "            # count shots originating from each zone\n",
    "            for i in range(0,7):\n",
    "                count_zone = 'count_zone' + str(i)\n",
    "                zone = 'zone' + str(i)\n",
    "                line_stats[line][count_zone] = line_stats[line][count_zone] + stats[player][zone]"
   ]
  },
  {
   "cell_type": "code",
   "execution_count": 7,
   "metadata": {},
   "outputs": [],
   "source": [
    "# loop through all lines in line_stats\n",
    "# calculate proportions of shots in all zones\n",
    "for line in line_stats:\n",
    "    for i in range(0,7):\n",
    "        count_zone = 'count_zone' + str(i)\n",
    "        line_stats[line]['total_shots'] = line_stats[line]['total_shots'] + line_stats[line][count_zone]\n",
    "    \n",
    "    for i in range(0,7):\n",
    "        count_zone = 'count_zone' + str(i)\n",
    "        percent_zone = 'percent_zone' + str(i)\n",
    "        line_stats[line][percent_zone] = line_stats[line][count_zone] / line_stats[line]['total_shots']"
   ]
  },
  {
   "cell_type": "markdown",
   "metadata": {},
   "source": [
    "### Calculate Variance of Shot Location for each Line Combination"
   ]
  },
  {
   "cell_type": "code",
   "execution_count": 8,
   "metadata": {},
   "outputs": [],
   "source": [
    "df = pd.DataFrame(line_stats)\n",
    "df_var = df.transpose()[['goals', 'assists']]"
   ]
  },
  {
   "cell_type": "code",
   "execution_count": 9,
   "metadata": {},
   "outputs": [],
   "source": [
    "# using counts, calculate variance\n",
    "df_counts = df.transpose()[['count_zone0', \n",
    "                            'count_zone1',\n",
    "                            'count_zone2', \n",
    "                            'count_zone3', \n",
    "                            'count_zone4', \n",
    "                            'count_zone5', \n",
    "                            'count_zone6']].transpose()\n",
    "df_var['count_var'] = df_counts.var()\n",
    "\n",
    "# using percents, calculate variance\n",
    "df_percents = df.transpose()[['percent_zone0', \n",
    "                            'percent_zone1',\n",
    "                            'percent_zone2', \n",
    "                            'percent_zone3', \n",
    "                            'percent_zone4', \n",
    "                            'percent_zone5', \n",
    "                            'percent_zone6']].transpose()\n",
    "df_var['percent_var'] = df_percents.var()"
   ]
  },
  {
   "cell_type": "code",
   "execution_count": 10,
   "metadata": {},
   "outputs": [],
   "source": [
    "# calculate goals per shot to eliminate advantage of additional TOI\n",
    "df_var['total_shots'] = df.transpose()[['total_shots']]\n",
    "df_var['percent_zone0'] = df.transpose()[['percent_zone0']]\n",
    "df_var['goals_per_shot'] = df_var['goals'] / df_var['total_shots']"
   ]
  },
  {
   "cell_type": "code",
   "execution_count": 11,
   "metadata": {},
   "outputs": [
    {
     "data": {
      "text/html": [
       "<div>\n",
       "<style scoped>\n",
       "    .dataframe tbody tr th:only-of-type {\n",
       "        vertical-align: middle;\n",
       "    }\n",
       "\n",
       "    .dataframe tbody tr th {\n",
       "        vertical-align: top;\n",
       "    }\n",
       "\n",
       "    .dataframe thead th {\n",
       "        text-align: right;\n",
       "    }\n",
       "</style>\n",
       "<table border=\"1\" class=\"dataframe\">\n",
       "  <thead>\n",
       "    <tr style=\"text-align: right;\">\n",
       "      <th></th>\n",
       "      <th>goals</th>\n",
       "      <th>assists</th>\n",
       "      <th>count_var</th>\n",
       "      <th>percent_var</th>\n",
       "      <th>total_shots</th>\n",
       "      <th>percent_zone0</th>\n",
       "      <th>goals_per_shot</th>\n",
       "    </tr>\n",
       "  </thead>\n",
       "  <tbody>\n",
       "    <tr>\n",
       "      <th>Ducks_F1</th>\n",
       "      <td>52.0</td>\n",
       "      <td>46.0</td>\n",
       "      <td>2867.238095</td>\n",
       "      <td>0.017567</td>\n",
       "      <td>404.0</td>\n",
       "      <td>0.418317</td>\n",
       "      <td>0.128713</td>\n",
       "    </tr>\n",
       "    <tr>\n",
       "      <th>Ducks_F2</th>\n",
       "      <td>18.0</td>\n",
       "      <td>38.0</td>\n",
       "      <td>451.142857</td>\n",
       "      <td>0.011056</td>\n",
       "      <td>202.0</td>\n",
       "      <td>0.346535</td>\n",
       "      <td>0.089109</td>\n",
       "    </tr>\n",
       "    <tr>\n",
       "      <th>Ducks_F3</th>\n",
       "      <td>9.0</td>\n",
       "      <td>18.0</td>\n",
       "      <td>439.952381</td>\n",
       "      <td>0.026033</td>\n",
       "      <td>130.0</td>\n",
       "      <td>0.484615</td>\n",
       "      <td>0.069231</td>\n",
       "    </tr>\n",
       "    <tr>\n",
       "      <th>Ducks_F4</th>\n",
       "      <td>23.0</td>\n",
       "      <td>23.0</td>\n",
       "      <td>664.000000</td>\n",
       "      <td>0.018589</td>\n",
       "      <td>189.0</td>\n",
       "      <td>0.412698</td>\n",
       "      <td>0.121693</td>\n",
       "    </tr>\n",
       "    <tr>\n",
       "      <th>Coyotes_F1</th>\n",
       "      <td>36.0</td>\n",
       "      <td>37.0</td>\n",
       "      <td>945.285714</td>\n",
       "      <td>0.015369</td>\n",
       "      <td>248.0</td>\n",
       "      <td>0.387097</td>\n",
       "      <td>0.145161</td>\n",
       "    </tr>\n",
       "    <tr>\n",
       "      <th>...</th>\n",
       "      <td>...</td>\n",
       "      <td>...</td>\n",
       "      <td>...</td>\n",
       "      <td>...</td>\n",
       "      <td>...</td>\n",
       "      <td>...</td>\n",
       "      <td>...</td>\n",
       "    </tr>\n",
       "    <tr>\n",
       "      <th>Capitals_F4</th>\n",
       "      <td>20.0</td>\n",
       "      <td>29.0</td>\n",
       "      <td>982.809524</td>\n",
       "      <td>0.021065</td>\n",
       "      <td>216.0</td>\n",
       "      <td>0.449074</td>\n",
       "      <td>0.092593</td>\n",
       "    </tr>\n",
       "    <tr>\n",
       "      <th>Jets_F1</th>\n",
       "      <td>60.0</td>\n",
       "      <td>89.0</td>\n",
       "      <td>1887.238095</td>\n",
       "      <td>0.010597</td>\n",
       "      <td>422.0</td>\n",
       "      <td>0.315166</td>\n",
       "      <td>0.142180</td>\n",
       "    </tr>\n",
       "    <tr>\n",
       "      <th>Jets_F2</th>\n",
       "      <td>62.0</td>\n",
       "      <td>66.0</td>\n",
       "      <td>2742.904762</td>\n",
       "      <td>0.013133</td>\n",
       "      <td>457.0</td>\n",
       "      <td>0.376368</td>\n",
       "      <td>0.135667</td>\n",
       "    </tr>\n",
       "    <tr>\n",
       "      <th>Jets_F3</th>\n",
       "      <td>16.0</td>\n",
       "      <td>20.0</td>\n",
       "      <td>561.809524</td>\n",
       "      <td>0.012042</td>\n",
       "      <td>216.0</td>\n",
       "      <td>0.356481</td>\n",
       "      <td>0.074074</td>\n",
       "    </tr>\n",
       "    <tr>\n",
       "      <th>Jets_F4</th>\n",
       "      <td>10.0</td>\n",
       "      <td>16.0</td>\n",
       "      <td>402.619048</td>\n",
       "      <td>0.017894</td>\n",
       "      <td>150.0</td>\n",
       "      <td>0.426667</td>\n",
       "      <td>0.066667</td>\n",
       "    </tr>\n",
       "  </tbody>\n",
       "</table>\n",
       "<p>124 rows × 7 columns</p>\n",
       "</div>"
      ],
      "text/plain": [
       "             goals  assists    count_var  percent_var  total_shots  \\\n",
       "Ducks_F1      52.0     46.0  2867.238095     0.017567        404.0   \n",
       "Ducks_F2      18.0     38.0   451.142857     0.011056        202.0   \n",
       "Ducks_F3       9.0     18.0   439.952381     0.026033        130.0   \n",
       "Ducks_F4      23.0     23.0   664.000000     0.018589        189.0   \n",
       "Coyotes_F1    36.0     37.0   945.285714     0.015369        248.0   \n",
       "...            ...      ...          ...          ...          ...   \n",
       "Capitals_F4   20.0     29.0   982.809524     0.021065        216.0   \n",
       "Jets_F1       60.0     89.0  1887.238095     0.010597        422.0   \n",
       "Jets_F2       62.0     66.0  2742.904762     0.013133        457.0   \n",
       "Jets_F3       16.0     20.0   561.809524     0.012042        216.0   \n",
       "Jets_F4       10.0     16.0   402.619048     0.017894        150.0   \n",
       "\n",
       "             percent_zone0  goals_per_shot  \n",
       "Ducks_F1          0.418317        0.128713  \n",
       "Ducks_F2          0.346535        0.089109  \n",
       "Ducks_F3          0.484615        0.069231  \n",
       "Ducks_F4          0.412698        0.121693  \n",
       "Coyotes_F1        0.387097        0.145161  \n",
       "...                    ...             ...  \n",
       "Capitals_F4       0.449074        0.092593  \n",
       "Jets_F1           0.315166        0.142180  \n",
       "Jets_F2           0.376368        0.135667  \n",
       "Jets_F3           0.356481        0.074074  \n",
       "Jets_F4           0.426667        0.066667  \n",
       "\n",
       "[124 rows x 7 columns]"
      ]
     },
     "execution_count": 11,
     "metadata": {},
     "output_type": "execute_result"
    }
   ],
   "source": [
    "df_var"
   ]
  },
  {
   "cell_type": "markdown",
   "metadata": {},
   "source": [
    "### Analyze Relationships"
   ]
  },
  {
   "cell_type": "markdown",
   "metadata": {},
   "source": [
    "##### Variance vs Goals"
   ]
  },
  {
   "cell_type": "code",
   "execution_count": 12,
   "metadata": {},
   "outputs": [
    {
     "data": {
      "text/plain": [
       "Text(0, 0.5, 'Goals Scored')"
      ]
     },
     "execution_count": 12,
     "metadata": {},
     "output_type": "execute_result"
    },
    {
     "data": {
      "image/png": "[encoded data removed]",
      "text/plain": [
       "<Figure size 432x288 with 1 Axes>"
      ]
     },
     "metadata": {
      "needs_background": "light"
     },
     "output_type": "display_data"
    }
   ],
   "source": [
    "ax = df_var.plot.scatter(x='count_var', y='goals')\n",
    "plt.title('Shot Location Variance (Using Counts) vs Goal Scored\\n' + \n",
    "         'Each Point Represents a Line Combination of 3 Players')\n",
    "plt.xlabel('Shot Variance given Counts\\n' + \n",
    "          'Higher Variance Means Shots are Highly Concentrated in 1 Zone')\n",
    "plt.ylabel('Goals Scored')"
   ]
  },
  {
   "cell_type": "code",
   "execution_count": 13,
   "metadata": {},
   "outputs": [
    {
     "data": {
      "text/plain": [
       "Text(0, 0.5, 'Goals Scored')"
      ]
     },
     "execution_count": 13,
     "metadata": {},
     "output_type": "execute_result"
    },
    {
     "data": {
      "image/png": "[encoded data removed]",
      "text/plain": [
       "<Figure size 432x288 with 1 Axes>"
      ]
     },
     "metadata": {
      "needs_background": "light"
     },
     "output_type": "display_data"
    }
   ],
   "source": [
    "ax = df_var.plot.scatter(x='percent_var', y='goals')\n",
    "plt.title('Shot Location Variance (Using Proportions) vs Goal Scored\\n' + \n",
    "         'Each Point Represents a Line Combination of 3 Players')\n",
    "plt.xlabel('Shot Variance given Proportions\\n' + \n",
    "          'Higher Variance Means Shots are Highly Concentrated in 1 Zone')\n",
    "plt.ylabel('Goals Scored')"
   ]
  },
  {
   "cell_type": "code",
   "execution_count": 14,
   "metadata": {},
   "outputs": [
    {
     "data": {
      "text/plain": [
       "Text(0, 0.5, 'Goals/Shots Taken')"
      ]
     },
     "execution_count": 14,
     "metadata": {},
     "output_type": "execute_result"
    },
    {
     "data": {
      "image/png": "[encoded data removed]",
      "text/plain": [
       "<Figure size 432x288 with 1 Axes>"
      ]
     },
     "metadata": {
      "needs_background": "light"
     },
     "output_type": "display_data"
    }
   ],
   "source": [
    "ax = df_var.plot.scatter(x='count_var', y='goals_per_shot')\n",
    "plt.title('Shot Location Variance (Using Counts) vs Goal Scored\\n' + \n",
    "         'Each Point Represents a Line Combination of 3 Players')\n",
    "plt.xlabel('Shot Variance given Counts\\n' + \n",
    "          'Higher Variance Means Shots are Highly Concentrated in 1 Zone')\n",
    "plt.ylabel('Goals/Shots Taken')"
   ]
  },
  {
   "cell_type": "code",
   "execution_count": 22,
   "metadata": {},
   "outputs": [
    {
     "data": {
      "text/plain": [
       "Text(0, 0.5, 'Goals per Shot Taken')"
      ]
     },
     "execution_count": 22,
     "metadata": {},
     "output_type": "execute_result"
    },
    {
     "data": {
      "image/png": "[encoded data removed]",
      "text/plain": [
       "<Figure size 432x288 with 1 Axes>"
      ]
     },
     "metadata": {
      "needs_background": "light"
     },
     "output_type": "display_data"
    }
   ],
   "source": [
    "ax = df_var.plot.scatter(x='percent_var', y='goals_per_shot')\n",
    "plt.title('The Effect of Shot Diversity on Goal Production\\n' + \n",
    "         'Each Point Represents a Line Combination of 3 Players')\n",
    "plt.xlabel('Shot Variance\\n' + \n",
    "          'Higher Variance Indicates Shots are Less Evenly Spread')\n",
    "plt.ylabel('Goals per Shot Taken')"
   ]
  },
  {
   "cell_type": "markdown",
   "metadata": {},
   "source": [
    "##### Variance vs Shots"
   ]
  },
  {
   "cell_type": "code",
   "execution_count": 16,
   "metadata": {},
   "outputs": [
    {
     "data": {
      "text/plain": [
       "Text(0.5, 0, 'Shots Taken')"
      ]
     },
     "execution_count": 16,
     "metadata": {},
     "output_type": "execute_result"
    },
    {
     "data": {
      "image/png": "[encoded data removed]",
      "text/plain": [
       "<Figure size 432x288 with 1 Axes>"
      ]
     },
     "metadata": {
      "needs_background": "light"
     },
     "output_type": "display_data"
    }
   ],
   "source": [
    "ax = df_var.plot.scatter(x='total_shots', y='count_var')\n",
    "plt.title('Shot Location Variance (Using Counts) vs Shots Taken\\n' + \n",
    "         'Each Point Represents a Line Combination of 3 Players')\n",
    "plt.ylabel('Shot Variance given Counts')\n",
    "plt.xlabel('Shots Taken')"
   ]
  },
  {
   "cell_type": "code",
   "execution_count": 17,
   "metadata": {},
   "outputs": [
    {
     "data": {
      "text/plain": [
       "Text(0.5, 0, 'Shots Taken')"
      ]
     },
     "execution_count": 17,
     "metadata": {},
     "output_type": "execute_result"
    },
    {
     "data": {
      "image/png": "[encoded data removed]",
      "text/plain": [
       "<Figure size 432x288 with 1 Axes>"
      ]
     },
     "metadata": {
      "needs_background": "light"
     },
     "output_type": "display_data"
    }
   ],
   "source": [
    "ax = df_var.plot.scatter(x='total_shots', y='percent_var')\n",
    "plt.title('Shot Location Variance (Using Proportions) vs Shots Taken\\n' + \n",
    "         'Each Point Represents a Line Combination of 3 Players')\n",
    "plt.ylabel('Shot Variance given Proportions')\n",
    "plt.xlabel('Shots Taken')"
   ]
  },
  {
   "cell_type": "markdown",
   "metadata": {},
   "source": [
    "##### Proportion of Shots taken from zone 0 vs Goals per Shots"
   ]
  },
  {
   "cell_type": "code",
   "execution_count": 18,
   "metadata": {},
   "outputs": [
    {
     "data": {
      "text/plain": [
       "Text(0.5, 0, 'Proportion of Total Shots taken from Zone 0')"
      ]
     },
     "execution_count": 18,
     "metadata": {},
     "output_type": "execute_result"
    },
    {
     "data": {
      "image/png": "[encoded data removed]",
      "text/plain": [
       "<Figure size 432x288 with 1 Axes>"
      ]
     },
     "metadata": {
      "needs_background": "light"
     },
     "output_type": "display_data"
    }
   ],
   "source": [
    "ax = df_var[df_var['total_shots'] >= 200].plot.scatter(x='percent_zone0', y='goals_per_shot')\n",
    "plt.title('Shot Zone vs Goals\\n' + \n",
    "         'Each Point Represents a Line Combination of 3 Players')\n",
    "plt.ylabel('Goals per Shot')\n",
    "plt.xlabel('Proportion of Total Shots taken from Zone 0')"
   ]
  },
  {
   "cell_type": "markdown",
   "metadata": {},
   "source": [
    "##### Proportion of Shots taken from zone 0 vs Goals per Shots **for individual players"
   ]
  },
  {
   "cell_type": "code",
   "execution_count": 27,
   "metadata": {},
   "outputs": [
    {
     "data": {
      "text/html": [
       "<div>\n",
       "<style scoped>\n",
       "    .dataframe tbody tr th:only-of-type {\n",
       "        vertical-align: middle;\n",
       "    }\n",
       "\n",
       "    .dataframe tbody tr th {\n",
       "        vertical-align: top;\n",
       "    }\n",
       "\n",
       "    .dataframe thead th {\n",
       "        text-align: right;\n",
       "    }\n",
       "</style>\n",
       "<table border=\"1\" class=\"dataframe\">\n",
       "  <thead>\n",
       "    <tr style=\"text-align: right;\">\n",
       "      <th></th>\n",
       "      <th>goals</th>\n",
       "      <th>assists</th>\n",
       "      <th>zone0</th>\n",
       "      <th>zone1</th>\n",
       "      <th>zone2</th>\n",
       "      <th>zone3</th>\n",
       "      <th>zone4</th>\n",
       "      <th>zone5</th>\n",
       "      <th>zone6</th>\n",
       "    </tr>\n",
       "  </thead>\n",
       "  <tbody>\n",
       "    <tr>\n",
       "      <th>sami vatanen</th>\n",
       "      <td>4</td>\n",
       "      <td>7</td>\n",
       "      <td>5</td>\n",
       "      <td>13</td>\n",
       "      <td>22</td>\n",
       "      <td>4</td>\n",
       "      <td>7</td>\n",
       "      <td>5</td>\n",
       "      <td>3</td>\n",
       "    </tr>\n",
       "    <tr>\n",
       "      <th>eric comrie</th>\n",
       "      <td>0</td>\n",
       "      <td>0</td>\n",
       "      <td>0</td>\n",
       "      <td>0</td>\n",
       "      <td>0</td>\n",
       "      <td>0</td>\n",
       "      <td>0</td>\n",
       "      <td>0</td>\n",
       "      <td>0</td>\n",
       "    </tr>\n",
       "    <tr>\n",
       "      <th>jesper bratt</th>\n",
       "      <td>15</td>\n",
       "      <td>11</td>\n",
       "      <td>36</td>\n",
       "      <td>3</td>\n",
       "      <td>5</td>\n",
       "      <td>13</td>\n",
       "      <td>9</td>\n",
       "      <td>9</td>\n",
       "      <td>11</td>\n",
       "    </tr>\n",
       "    <tr>\n",
       "      <th>travis zajac</th>\n",
       "      <td>7</td>\n",
       "      <td>14</td>\n",
       "      <td>26</td>\n",
       "      <td>5</td>\n",
       "      <td>3</td>\n",
       "      <td>4</td>\n",
       "      <td>2</td>\n",
       "      <td>13</td>\n",
       "      <td>8</td>\n",
       "    </tr>\n",
       "    <tr>\n",
       "      <th>pk subban</th>\n",
       "      <td>5</td>\n",
       "      <td>7</td>\n",
       "      <td>5</td>\n",
       "      <td>8</td>\n",
       "      <td>59</td>\n",
       "      <td>7</td>\n",
       "      <td>15</td>\n",
       "      <td>6</td>\n",
       "      <td>11</td>\n",
       "    </tr>\n",
       "    <tr>\n",
       "      <th>...</th>\n",
       "      <td>...</td>\n",
       "      <td>...</td>\n",
       "      <td>...</td>\n",
       "      <td>...</td>\n",
       "      <td>...</td>\n",
       "      <td>...</td>\n",
       "      <td>...</td>\n",
       "      <td>...</td>\n",
       "      <td>...</td>\n",
       "    </tr>\n",
       "    <tr>\n",
       "      <th>tomas nosek</th>\n",
       "      <td>7</td>\n",
       "      <td>7</td>\n",
       "      <td>51</td>\n",
       "      <td>1</td>\n",
       "      <td>1</td>\n",
       "      <td>16</td>\n",
       "      <td>5</td>\n",
       "      <td>9</td>\n",
       "      <td>7</td>\n",
       "    </tr>\n",
       "    <tr>\n",
       "      <th>alex tuch</th>\n",
       "      <td>6</td>\n",
       "      <td>5</td>\n",
       "      <td>29</td>\n",
       "      <td>4</td>\n",
       "      <td>8</td>\n",
       "      <td>18</td>\n",
       "      <td>2</td>\n",
       "      <td>18</td>\n",
       "      <td>10</td>\n",
       "    </tr>\n",
       "    <tr>\n",
       "      <th>nicolas roy</th>\n",
       "      <td>4</td>\n",
       "      <td>5</td>\n",
       "      <td>19</td>\n",
       "      <td>3</td>\n",
       "      <td>2</td>\n",
       "      <td>4</td>\n",
       "      <td>0</td>\n",
       "      <td>7</td>\n",
       "      <td>5</td>\n",
       "    </tr>\n",
       "    <tr>\n",
       "      <th>cody glass</th>\n",
       "      <td>4</td>\n",
       "      <td>2</td>\n",
       "      <td>15</td>\n",
       "      <td>1</td>\n",
       "      <td>0</td>\n",
       "      <td>6</td>\n",
       "      <td>3</td>\n",
       "      <td>13</td>\n",
       "      <td>9</td>\n",
       "    </tr>\n",
       "    <tr>\n",
       "      <th>zach whitecloud</th>\n",
       "      <td>0</td>\n",
       "      <td>1</td>\n",
       "      <td>2</td>\n",
       "      <td>1</td>\n",
       "      <td>2</td>\n",
       "      <td>1</td>\n",
       "      <td>0</td>\n",
       "      <td>2</td>\n",
       "      <td>0</td>\n",
       "    </tr>\n",
       "  </tbody>\n",
       "</table>\n",
       "<p>781 rows × 9 columns</p>\n",
       "</div>"
      ],
      "text/plain": [
       "                 goals  assists  zone0  zone1  zone2  zone3  zone4  zone5  \\\n",
       "sami vatanen         4        7      5     13     22      4      7      5   \n",
       "eric comrie          0        0      0      0      0      0      0      0   \n",
       "jesper bratt        15       11     36      3      5     13      9      9   \n",
       "travis zajac         7       14     26      5      3      4      2     13   \n",
       "pk subban            5        7      5      8     59      7     15      6   \n",
       "...                ...      ...    ...    ...    ...    ...    ...    ...   \n",
       "tomas nosek          7        7     51      1      1     16      5      9   \n",
       "alex tuch            6        5     29      4      8     18      2     18   \n",
       "nicolas roy          4        5     19      3      2      4      0      7   \n",
       "cody glass           4        2     15      1      0      6      3     13   \n",
       "zach whitecloud      0        1      2      1      2      1      0      2   \n",
       "\n",
       "                 zone6  \n",
       "sami vatanen         3  \n",
       "eric comrie          0  \n",
       "jesper bratt        11  \n",
       "travis zajac         8  \n",
       "pk subban           11  \n",
       "...                ...  \n",
       "tomas nosek          7  \n",
       "alex tuch           10  \n",
       "nicolas roy          5  \n",
       "cody glass           9  \n",
       "zach whitecloud      0  \n",
       "\n",
       "[781 rows x 9 columns]"
      ]
     },
     "execution_count": 27,
     "metadata": {},
     "output_type": "execute_result"
    }
   ],
   "source": [
    "# create a df for individual players\n",
    "df_stats = pd.DataFrame(stats).transpose()\n",
    "df_stats"
   ]
  },
  {
   "cell_type": "code",
   "execution_count": 38,
   "metadata": {},
   "outputs": [
    {
     "data": {
      "text/html": [
       "<div>\n",
       "<style scoped>\n",
       "    .dataframe tbody tr th:only-of-type {\n",
       "        vertical-align: middle;\n",
       "    }\n",
       "\n",
       "    .dataframe tbody tr th {\n",
       "        vertical-align: top;\n",
       "    }\n",
       "\n",
       "    .dataframe thead th {\n",
       "        text-align: right;\n",
       "    }\n",
       "</style>\n",
       "<table border=\"1\" class=\"dataframe\">\n",
       "  <thead>\n",
       "    <tr style=\"text-align: right;\">\n",
       "      <th></th>\n",
       "      <th>goals</th>\n",
       "      <th>assists</th>\n",
       "      <th>zone0</th>\n",
       "      <th>zone1</th>\n",
       "      <th>zone2</th>\n",
       "      <th>zone3</th>\n",
       "      <th>zone4</th>\n",
       "      <th>zone5</th>\n",
       "      <th>zone6</th>\n",
       "      <th>total_shots</th>\n",
       "      <th>percent_zone0</th>\n",
       "      <th>percent_zone1</th>\n",
       "      <th>percent_zone2</th>\n",
       "      <th>percent_zone3</th>\n",
       "      <th>percent_zone4</th>\n",
       "      <th>percent_zone5</th>\n",
       "      <th>percent_zone6</th>\n",
       "      <th>goals_per_shots</th>\n",
       "    </tr>\n",
       "  </thead>\n",
       "  <tbody>\n",
       "    <tr>\n",
       "      <th>sami vatanen</th>\n",
       "      <td>4</td>\n",
       "      <td>7</td>\n",
       "      <td>5</td>\n",
       "      <td>13</td>\n",
       "      <td>22</td>\n",
       "      <td>4</td>\n",
       "      <td>7</td>\n",
       "      <td>5</td>\n",
       "      <td>3</td>\n",
       "      <td>59</td>\n",
       "      <td>0.084746</td>\n",
       "      <td>0.220339</td>\n",
       "      <td>0.372881</td>\n",
       "      <td>0.067797</td>\n",
       "      <td>0.118644</td>\n",
       "      <td>0.084746</td>\n",
       "      <td>0.050847</td>\n",
       "      <td>0.067797</td>\n",
       "    </tr>\n",
       "    <tr>\n",
       "      <th>eric comrie</th>\n",
       "      <td>0</td>\n",
       "      <td>0</td>\n",
       "      <td>0</td>\n",
       "      <td>0</td>\n",
       "      <td>0</td>\n",
       "      <td>0</td>\n",
       "      <td>0</td>\n",
       "      <td>0</td>\n",
       "      <td>0</td>\n",
       "      <td>0</td>\n",
       "      <td>NaN</td>\n",
       "      <td>NaN</td>\n",
       "      <td>NaN</td>\n",
       "      <td>NaN</td>\n",
       "      <td>NaN</td>\n",
       "      <td>NaN</td>\n",
       "      <td>NaN</td>\n",
       "      <td>NaN</td>\n",
       "    </tr>\n",
       "    <tr>\n",
       "      <th>jesper bratt</th>\n",
       "      <td>15</td>\n",
       "      <td>11</td>\n",
       "      <td>36</td>\n",
       "      <td>3</td>\n",
       "      <td>5</td>\n",
       "      <td>13</td>\n",
       "      <td>9</td>\n",
       "      <td>9</td>\n",
       "      <td>11</td>\n",
       "      <td>86</td>\n",
       "      <td>0.418605</td>\n",
       "      <td>0.034884</td>\n",
       "      <td>0.058140</td>\n",
       "      <td>0.151163</td>\n",
       "      <td>0.104651</td>\n",
       "      <td>0.104651</td>\n",
       "      <td>0.127907</td>\n",
       "      <td>0.174419</td>\n",
       "    </tr>\n",
       "    <tr>\n",
       "      <th>travis zajac</th>\n",
       "      <td>7</td>\n",
       "      <td>14</td>\n",
       "      <td>26</td>\n",
       "      <td>5</td>\n",
       "      <td>3</td>\n",
       "      <td>4</td>\n",
       "      <td>2</td>\n",
       "      <td>13</td>\n",
       "      <td>8</td>\n",
       "      <td>61</td>\n",
       "      <td>0.426230</td>\n",
       "      <td>0.081967</td>\n",
       "      <td>0.049180</td>\n",
       "      <td>0.065574</td>\n",
       "      <td>0.032787</td>\n",
       "      <td>0.213115</td>\n",
       "      <td>0.131148</td>\n",
       "      <td>0.114754</td>\n",
       "    </tr>\n",
       "    <tr>\n",
       "      <th>pk subban</th>\n",
       "      <td>5</td>\n",
       "      <td>7</td>\n",
       "      <td>5</td>\n",
       "      <td>8</td>\n",
       "      <td>59</td>\n",
       "      <td>7</td>\n",
       "      <td>15</td>\n",
       "      <td>6</td>\n",
       "      <td>11</td>\n",
       "      <td>111</td>\n",
       "      <td>0.045045</td>\n",
       "      <td>0.072072</td>\n",
       "      <td>0.531532</td>\n",
       "      <td>0.063063</td>\n",
       "      <td>0.135135</td>\n",
       "      <td>0.054054</td>\n",
       "      <td>0.099099</td>\n",
       "      <td>0.045045</td>\n",
       "    </tr>\n",
       "    <tr>\n",
       "      <th>...</th>\n",
       "      <td>...</td>\n",
       "      <td>...</td>\n",
       "      <td>...</td>\n",
       "      <td>...</td>\n",
       "      <td>...</td>\n",
       "      <td>...</td>\n",
       "      <td>...</td>\n",
       "      <td>...</td>\n",
       "      <td>...</td>\n",
       "      <td>...</td>\n",
       "      <td>...</td>\n",
       "      <td>...</td>\n",
       "      <td>...</td>\n",
       "      <td>...</td>\n",
       "      <td>...</td>\n",
       "      <td>...</td>\n",
       "      <td>...</td>\n",
       "      <td>...</td>\n",
       "    </tr>\n",
       "    <tr>\n",
       "      <th>tomas nosek</th>\n",
       "      <td>7</td>\n",
       "      <td>7</td>\n",
       "      <td>51</td>\n",
       "      <td>1</td>\n",
       "      <td>1</td>\n",
       "      <td>16</td>\n",
       "      <td>5</td>\n",
       "      <td>9</td>\n",
       "      <td>7</td>\n",
       "      <td>90</td>\n",
       "      <td>0.566667</td>\n",
       "      <td>0.011111</td>\n",
       "      <td>0.011111</td>\n",
       "      <td>0.177778</td>\n",
       "      <td>0.055556</td>\n",
       "      <td>0.100000</td>\n",
       "      <td>0.077778</td>\n",
       "      <td>0.077778</td>\n",
       "    </tr>\n",
       "    <tr>\n",
       "      <th>alex tuch</th>\n",
       "      <td>6</td>\n",
       "      <td>5</td>\n",
       "      <td>29</td>\n",
       "      <td>4</td>\n",
       "      <td>8</td>\n",
       "      <td>18</td>\n",
       "      <td>2</td>\n",
       "      <td>18</td>\n",
       "      <td>10</td>\n",
       "      <td>89</td>\n",
       "      <td>0.325843</td>\n",
       "      <td>0.044944</td>\n",
       "      <td>0.089888</td>\n",
       "      <td>0.202247</td>\n",
       "      <td>0.022472</td>\n",
       "      <td>0.202247</td>\n",
       "      <td>0.112360</td>\n",
       "      <td>0.067416</td>\n",
       "    </tr>\n",
       "    <tr>\n",
       "      <th>nicolas roy</th>\n",
       "      <td>4</td>\n",
       "      <td>5</td>\n",
       "      <td>19</td>\n",
       "      <td>3</td>\n",
       "      <td>2</td>\n",
       "      <td>4</td>\n",
       "      <td>0</td>\n",
       "      <td>7</td>\n",
       "      <td>5</td>\n",
       "      <td>40</td>\n",
       "      <td>0.475000</td>\n",
       "      <td>0.075000</td>\n",
       "      <td>0.050000</td>\n",
       "      <td>0.100000</td>\n",
       "      <td>0.000000</td>\n",
       "      <td>0.175000</td>\n",
       "      <td>0.125000</td>\n",
       "      <td>0.100000</td>\n",
       "    </tr>\n",
       "    <tr>\n",
       "      <th>cody glass</th>\n",
       "      <td>4</td>\n",
       "      <td>2</td>\n",
       "      <td>15</td>\n",
       "      <td>1</td>\n",
       "      <td>0</td>\n",
       "      <td>6</td>\n",
       "      <td>3</td>\n",
       "      <td>13</td>\n",
       "      <td>9</td>\n",
       "      <td>47</td>\n",
       "      <td>0.319149</td>\n",
       "      <td>0.021277</td>\n",
       "      <td>0.000000</td>\n",
       "      <td>0.127660</td>\n",
       "      <td>0.063830</td>\n",
       "      <td>0.276596</td>\n",
       "      <td>0.191489</td>\n",
       "      <td>0.085106</td>\n",
       "    </tr>\n",
       "    <tr>\n",
       "      <th>zach whitecloud</th>\n",
       "      <td>0</td>\n",
       "      <td>1</td>\n",
       "      <td>2</td>\n",
       "      <td>1</td>\n",
       "      <td>2</td>\n",
       "      <td>1</td>\n",
       "      <td>0</td>\n",
       "      <td>2</td>\n",
       "      <td>0</td>\n",
       "      <td>8</td>\n",
       "      <td>0.250000</td>\n",
       "      <td>0.125000</td>\n",
       "      <td>0.250000</td>\n",
       "      <td>0.125000</td>\n",
       "      <td>0.000000</td>\n",
       "      <td>0.250000</td>\n",
       "      <td>0.000000</td>\n",
       "      <td>0.000000</td>\n",
       "    </tr>\n",
       "  </tbody>\n",
       "</table>\n",
       "<p>781 rows × 18 columns</p>\n",
       "</div>"
      ],
      "text/plain": [
       "                 goals  assists  zone0  zone1  zone2  zone3  zone4  zone5  \\\n",
       "sami vatanen         4        7      5     13     22      4      7      5   \n",
       "eric comrie          0        0      0      0      0      0      0      0   \n",
       "jesper bratt        15       11     36      3      5     13      9      9   \n",
       "travis zajac         7       14     26      5      3      4      2     13   \n",
       "pk subban            5        7      5      8     59      7     15      6   \n",
       "...                ...      ...    ...    ...    ...    ...    ...    ...   \n",
       "tomas nosek          7        7     51      1      1     16      5      9   \n",
       "alex tuch            6        5     29      4      8     18      2     18   \n",
       "nicolas roy          4        5     19      3      2      4      0      7   \n",
       "cody glass           4        2     15      1      0      6      3     13   \n",
       "zach whitecloud      0        1      2      1      2      1      0      2   \n",
       "\n",
       "                 zone6  total_shots  percent_zone0  percent_zone1  \\\n",
       "sami vatanen         3           59       0.084746       0.220339   \n",
       "eric comrie          0            0            NaN            NaN   \n",
       "jesper bratt        11           86       0.418605       0.034884   \n",
       "travis zajac         8           61       0.426230       0.081967   \n",
       "pk subban           11          111       0.045045       0.072072   \n",
       "...                ...          ...            ...            ...   \n",
       "tomas nosek          7           90       0.566667       0.011111   \n",
       "alex tuch           10           89       0.325843       0.044944   \n",
       "nicolas roy          5           40       0.475000       0.075000   \n",
       "cody glass           9           47       0.319149       0.021277   \n",
       "zach whitecloud      0            8       0.250000       0.125000   \n",
       "\n",
       "                 percent_zone2  percent_zone3  percent_zone4  percent_zone5  \\\n",
       "sami vatanen          0.372881       0.067797       0.118644       0.084746   \n",
       "eric comrie                NaN            NaN            NaN            NaN   \n",
       "jesper bratt          0.058140       0.151163       0.104651       0.104651   \n",
       "travis zajac          0.049180       0.065574       0.032787       0.213115   \n",
       "pk subban             0.531532       0.063063       0.135135       0.054054   \n",
       "...                        ...            ...            ...            ...   \n",
       "tomas nosek           0.011111       0.177778       0.055556       0.100000   \n",
       "alex tuch             0.089888       0.202247       0.022472       0.202247   \n",
       "nicolas roy           0.050000       0.100000       0.000000       0.175000   \n",
       "cody glass            0.000000       0.127660       0.063830       0.276596   \n",
       "zach whitecloud       0.250000       0.125000       0.000000       0.250000   \n",
       "\n",
       "                 percent_zone6  goals_per_shots  \n",
       "sami vatanen          0.050847         0.067797  \n",
       "eric comrie                NaN              NaN  \n",
       "jesper bratt          0.127907         0.174419  \n",
       "travis zajac          0.131148         0.114754  \n",
       "pk subban             0.099099         0.045045  \n",
       "...                        ...              ...  \n",
       "tomas nosek           0.077778         0.077778  \n",
       "alex tuch             0.112360         0.067416  \n",
       "nicolas roy           0.125000         0.100000  \n",
       "cody glass            0.191489         0.085106  \n",
       "zach whitecloud       0.000000         0.000000  \n",
       "\n",
       "[781 rows x 18 columns]"
      ]
     },
     "execution_count": 38,
     "metadata": {},
     "output_type": "execute_result"
    }
   ],
   "source": [
    "# calculate proportions of shots from each zone\n",
    "df_stats['total_shots'] = 0\n",
    "for i in range(0,7):\n",
    "    zone = 'zone' + str(i)\n",
    "    df_stats['total_shots'] = df_stats['total_shots'] + df_stats[zone]\n",
    "\n",
    "for i in range(0,7):\n",
    "    pzone = 'percent_zone' + str(i)\n",
    "    zone = 'zone' + str(i)\n",
    "    df_stats[pzone] =  df_stats[zone] / df_stats['total_shots']\n",
    "\n",
    "df_stats['goals_per_shots'] = df_stats['goals'] / df_stats['total_shots']\n",
    "df_stats"
   ]
  },
  {
   "cell_type": "code",
   "execution_count": 47,
   "metadata": {},
   "outputs": [
    {
     "data": {
      "image/png": "[encoded data removed]",
      "text/plain": [
       "<Figure size 432x288 with 1 Axes>"
      ]
     },
     "metadata": {
      "needs_background": "light"
     },
     "output_type": "display_data"
    }
   ],
   "source": [
    "# graph relationship\n",
    "ax = df_stats[df_stats['total_shots'] >= 50].plot.scatter(x='percent_zone0', y='goals_per_shots')\n"
   ]
  }
 ],
 "metadata": {
  "kernelspec": {
   "display_name": "Python 3",
   "language": "python",
   "name": "python3"
  },
  "language_info": {
   "codemirror_mode": {
    "name": "ipython",
    "version": 3
   },
   "file_extension": ".py",
   "mimetype": "text/x-python",
   "name": "python",
   "nbconvert_exporter": "python",
   "pygments_lexer": "ipython3",
   "version": "3.8.1"
  }
 },
 "nbformat": 4,
 "nbformat_minor": 4
}
